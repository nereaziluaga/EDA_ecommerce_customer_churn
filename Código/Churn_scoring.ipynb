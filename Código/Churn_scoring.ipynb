{
 "cells": [
  {
   "cell_type": "markdown",
   "metadata": {},
   "source": [
    "Voy a definir el chun scoring, para ello voy a necesitar medir distintas variables:\n",
    "\n",
    "1- La puntuación en las reviews.\n",
    "\n",
    "2- Tiempo de recepción del producto.\n",
    "\n",
    "3-Ticket medio."
   ]
  },
  {
   "cell_type": "code",
   "execution_count": 267,
   "metadata": {},
   "outputs": [],
   "source": [
    "import pandas as pd"
   ]
  },
  {
   "cell_type": "markdown",
   "metadata": {},
   "source": [
    "1- ANALIZO LA PUNTUACIÓN EN LAS REVIEWS POR CLIENTE\n",
    "\n",
    "Datasets utilizados: Olist orders & olist_order_reviews"
   ]
  },
  {
   "cell_type": "code",
   "execution_count": 268,
   "metadata": {},
   "outputs": [],
   "source": [
    "olist_orders= pd.read_csv(\"olist_orders_dataset.csv\")"
   ]
  },
  {
   "cell_type": "code",
   "execution_count": 269,
   "metadata": {},
   "outputs": [
    {
     "name": "stdout",
     "output_type": "stream",
     "text": [
      "<class 'pandas.core.frame.DataFrame'>\n",
      "RangeIndex: 99224 entries, 0 to 99223\n",
      "Data columns (total 7 columns):\n",
      " #   Column                   Non-Null Count  Dtype \n",
      "---  ------                   --------------  ----- \n",
      " 0   review_id                99224 non-null  object\n",
      " 1   order_id                 99224 non-null  object\n",
      " 2   review_score             99224 non-null  int64 \n",
      " 3   review_comment_title     11568 non-null  object\n",
      " 4   review_comment_message   40977 non-null  object\n",
      " 5   review_creation_date     99224 non-null  object\n",
      " 6   review_answer_timestamp  99224 non-null  object\n",
      "dtypes: int64(1), object(6)\n",
      "memory usage: 5.3+ MB\n"
     ]
    }
   ],
   "source": [
    "\n",
    "olist_order_reviews= pd.read_csv(\"olist_order_reviews_dataset.csv\")\n",
    "olist_order_reviews.info()\n",
    "#Todo en orden, en la puntuación, que es lo que me interesa, no hay nulos.\n"
   ]
  },
  {
   "cell_type": "code",
   "execution_count": 270,
   "metadata": {},
   "outputs": [],
   "source": [
    "#Merge de Reviews con el dataset de orders porque en esta no tengo customer id\n",
    "#Así uno reseña con cliente\n",
    "reviews_por_cliente = olist_order_reviews.merge(olist_orders[[\"order_id\", \"customer_id\"]], on=\"order_id\", how=\"left\")\n",
    "#reviews_por_cliente "
   ]
  },
  {
   "cell_type": "code",
   "execution_count": 271,
   "metadata": {},
   "outputs": [],
   "source": [
    "#En realidad aquí sacar la media no tiene sentido porque solo tenemos una compra, \n",
    "#pero quiero definirlo todo bien para que sea extrapolable a otros proyectos.\n",
    "media_review = reviews_por_cliente.groupby(\"customer_id\")[\"review_score\"].mean().reset_index()\n",
    "#media_review"
   ]
  },
  {
   "cell_type": "code",
   "execution_count": 272,
   "metadata": {},
   "outputs": [],
   "source": [
    "media_review.to_pickle(\"media_review_data.pkl\")\n",
    "#formato Pickle, que es el formato nativo de Python para almacenar objetos.\n",
    "#Hago esto para llevármelo al notebook de confirmación de hipótesis"
   ]
  },
  {
   "cell_type": "code",
   "execution_count": 273,
   "metadata": {},
   "outputs": [],
   "source": [
    "#Clasificación reviews. Había hecho esto pero me lía más, lo dejo\n",
    "#def clasificar_satisfaccion(score):\n",
    "    #if score >= 4.5:\n",
    "        #return \"Alta\"\n",
    "    #elif score >= 3:\n",
    "        #return \"Media\"\n",
    "    #else:\n",
    "        #return \"Baja\""
   ]
  },
  {
   "cell_type": "code",
   "execution_count": 274,
   "metadata": {},
   "outputs": [],
   "source": [
    "#Nuevo df\n",
    "#media_review[\"satisfaccion de cliente\"] = media_review['review_score'].apply(clasificar_satisfaccion)\n",
    "#media_review.head(3)"
   ]
  },
  {
   "cell_type": "markdown",
   "metadata": {},
   "source": [
    "2- ANALIZO TIEMPO DE RECEPCIÓN DEL PRODUCTO POR PARTE DEL CLIENTE\n",
    "\n",
    "Datasets utilizados: Olist orders"
   ]
  },
  {
   "cell_type": "code",
   "execution_count": 275,
   "metadata": {},
   "outputs": [],
   "source": [
    "#Hay que pasarlo a formato datatime o da error porque es un object, como me pasaba en la definición del churn \n",
    "olist_orders[\"order_purchase_timestamp\"] = pd.to_datetime(olist_orders[\"order_purchase_timestamp\"])\n",
    "olist_orders[\"order_delivered_customer_date\"] = pd.to_datetime(olist_orders[\"order_delivered_customer_date\"])\n",
    "olist_orders[\"order_estimated_delivery_date\"] = pd.to_datetime(olist_orders[\"order_estimated_delivery_date\"])\n"
   ]
  },
  {
   "cell_type": "code",
   "execution_count": 276,
   "metadata": {},
   "outputs": [],
   "source": [
    "#Saco cuántos días tarda en enviarse, otra vez hay que poner el dt.days\n",
    "tiempo_envio = (olist_orders[\"order_delivered_customer_date\"] - olist_orders[\"order_purchase_timestamp\"]).dt.days\n",
    "#tiempo_envio"
   ]
  },
  {
   "cell_type": "code",
   "execution_count": 277,
   "metadata": {},
   "outputs": [
    {
     "data": {
      "application/vnd.microsoft.datawrangler.viewer.v0+json": {
       "columns": [
        {
         "name": "index",
         "rawType": "int64",
         "type": "integer"
        },
        {
         "name": "order_id",
         "rawType": "object",
         "type": "string"
        },
        {
         "name": "customer_id",
         "rawType": "object",
         "type": "string"
        },
        {
         "name": "order_status",
         "rawType": "object",
         "type": "string"
        },
        {
         "name": "order_purchase_timestamp",
         "rawType": "datetime64[ns]",
         "type": "datetime"
        },
        {
         "name": "order_approved_at",
         "rawType": "object",
         "type": "string"
        },
        {
         "name": "order_delivered_carrier_date",
         "rawType": "object",
         "type": "string"
        },
        {
         "name": "order_delivered_customer_date",
         "rawType": "datetime64[ns]",
         "type": "datetime"
        },
        {
         "name": "order_estimated_delivery_date",
         "rawType": "datetime64[ns]",
         "type": "datetime"
        },
        {
         "name": "tiempo_envio",
         "rawType": "float64",
         "type": "float"
        }
       ],
       "conversionMethod": "pd.DataFrame",
       "ref": "8be29b00-c03f-4309-b2e5-a39ed7a1a746",
       "rows": [
        [
         "0",
         "e481f51cbdc54678b7cc49136f2d6af7",
         "9ef432eb6251297304e76186b10a928d",
         "delivered",
         "2017-10-02 10:56:33",
         "2017-10-02 11:07:15",
         "2017-10-04 19:55:00",
         "2017-10-10 21:25:13",
         "2017-10-18 00:00:00",
         "8.0"
        ],
        [
         "1",
         "53cdb2fc8bc7dce0b6741e2150273451",
         "b0830fb4747a6c6d20dea0b8c802d7ef",
         "delivered",
         "2018-07-24 20:41:37",
         "2018-07-26 03:24:27",
         "2018-07-26 14:31:00",
         "2018-08-07 15:27:45",
         "2018-08-13 00:00:00",
         "13.0"
        ]
       ],
       "shape": {
        "columns": 9,
        "rows": 2
       }
      },
      "text/html": [
       "<div>\n",
       "<style scoped>\n",
       "    .dataframe tbody tr th:only-of-type {\n",
       "        vertical-align: middle;\n",
       "    }\n",
       "\n",
       "    .dataframe tbody tr th {\n",
       "        vertical-align: top;\n",
       "    }\n",
       "\n",
       "    .dataframe thead th {\n",
       "        text-align: right;\n",
       "    }\n",
       "</style>\n",
       "<table border=\"1\" class=\"dataframe\">\n",
       "  <thead>\n",
       "    <tr style=\"text-align: right;\">\n",
       "      <th></th>\n",
       "      <th>order_id</th>\n",
       "      <th>customer_id</th>\n",
       "      <th>order_status</th>\n",
       "      <th>order_purchase_timestamp</th>\n",
       "      <th>order_approved_at</th>\n",
       "      <th>order_delivered_carrier_date</th>\n",
       "      <th>order_delivered_customer_date</th>\n",
       "      <th>order_estimated_delivery_date</th>\n",
       "      <th>tiempo_envio</th>\n",
       "    </tr>\n",
       "  </thead>\n",
       "  <tbody>\n",
       "    <tr>\n",
       "      <th>0</th>\n",
       "      <td>e481f51cbdc54678b7cc49136f2d6af7</td>\n",
       "      <td>9ef432eb6251297304e76186b10a928d</td>\n",
       "      <td>delivered</td>\n",
       "      <td>2017-10-02 10:56:33</td>\n",
       "      <td>2017-10-02 11:07:15</td>\n",
       "      <td>2017-10-04 19:55:00</td>\n",
       "      <td>2017-10-10 21:25:13</td>\n",
       "      <td>2017-10-18</td>\n",
       "      <td>8.0</td>\n",
       "    </tr>\n",
       "    <tr>\n",
       "      <th>1</th>\n",
       "      <td>53cdb2fc8bc7dce0b6741e2150273451</td>\n",
       "      <td>b0830fb4747a6c6d20dea0b8c802d7ef</td>\n",
       "      <td>delivered</td>\n",
       "      <td>2018-07-24 20:41:37</td>\n",
       "      <td>2018-07-26 03:24:27</td>\n",
       "      <td>2018-07-26 14:31:00</td>\n",
       "      <td>2018-08-07 15:27:45</td>\n",
       "      <td>2018-08-13</td>\n",
       "      <td>13.0</td>\n",
       "    </tr>\n",
       "  </tbody>\n",
       "</table>\n",
       "</div>"
      ],
      "text/plain": [
       "                           order_id                       customer_id  \\\n",
       "0  e481f51cbdc54678b7cc49136f2d6af7  9ef432eb6251297304e76186b10a928d   \n",
       "1  53cdb2fc8bc7dce0b6741e2150273451  b0830fb4747a6c6d20dea0b8c802d7ef   \n",
       "\n",
       "  order_status order_purchase_timestamp    order_approved_at  \\\n",
       "0    delivered      2017-10-02 10:56:33  2017-10-02 11:07:15   \n",
       "1    delivered      2018-07-24 20:41:37  2018-07-26 03:24:27   \n",
       "\n",
       "  order_delivered_carrier_date order_delivered_customer_date  \\\n",
       "0          2017-10-04 19:55:00           2017-10-10 21:25:13   \n",
       "1          2018-07-26 14:31:00           2018-08-07 15:27:45   \n",
       "\n",
       "  order_estimated_delivery_date  tiempo_envio  \n",
       "0                    2017-10-18           8.0  \n",
       "1                    2018-08-13          13.0  "
      ]
     },
     "execution_count": 277,
     "metadata": {},
     "output_type": "execute_result"
    }
   ],
   "source": [
    "#Agrego la columna del tiempo de envío \n",
    "olist_orders[\"tiempo_envio\"] = tiempo_envio\n",
    "olist_orders.head(2)"
   ]
  },
  {
   "cell_type": "code",
   "execution_count": 278,
   "metadata": {},
   "outputs": [
    {
     "data": {
      "application/vnd.microsoft.datawrangler.viewer.v0+json": {
       "columns": [
        {
         "name": "index",
         "rawType": "int64",
         "type": "integer"
        },
        {
         "name": "customer_id",
         "rawType": "object",
         "type": "string"
        },
        {
         "name": "tiempo_envio",
         "rawType": "float64",
         "type": "float"
        }
       ],
       "conversionMethod": "pd.DataFrame",
       "ref": "82010176-3a26-4d79-8fd8-99069d7589ef",
       "rows": [
        [
         "0",
         "00012a2ce6f8dcda20d059ce98491703",
         "13.0"
        ],
        [
         "1",
         "000161a058600d5901f007fab4c27140",
         "9.0"
        ],
        [
         "2",
         "0001fd6190edaaf884bcaf3d49edf079",
         "5.0"
        ],
        [
         "3",
         "0002414f95344307404f0ace7a26f1d5",
         "28.0"
        ],
        [
         "4",
         "000379cdec625522490c315e70c7a9fb",
         "11.0"
        ],
        [
         "5",
         "0004164d20a9e969af783496f3408652",
         "8.0"
        ],
        [
         "6",
         "000419c5494106c306a97b5635748086",
         "45.0"
        ],
        [
         "7",
         "00046a560d407e99b969756e0b10f282",
         "8.0"
        ],
        [
         "8",
         "00050bf6e01e69d5c0fd612f1bcfb69c",
         "15.0"
        ],
        [
         "9",
         "000598caf2ef4117407665ac33275130",
         "9.0"
        ],
        [
         "10",
         "0005aefbb696d34b3424dccd0a0e9fd0",
         "2.0"
        ],
        [
         "11",
         "00062b33cb9f6fe976afdcff967ea74d",
         "8.0"
        ],
        [
         "12",
         "00066ccbe787a588c52bd5ff404590e3",
         "15.0"
        ],
        [
         "13",
         "00072d033fe2e59061ae5c3aff1a2be5",
         "13.0"
        ],
        [
         "14",
         "0009a69b72033b2d0ec8c69fc70ef768",
         "9.0"
        ],
        [
         "15",
         "000bf8121c3412d3057d32371c5d3395",
         "5.0"
        ],
        [
         "16",
         "000e943451fc2788ca6ac98a682f2f49",
         "18.0"
        ],
        [
         "17",
         "000f17e290c26b28549908a04cfe36c1",
         "20.0"
        ],
        [
         "18",
         "000fd45d6fedae68fc6676036610f879",
         "15.0"
        ],
        [
         "19",
         "0010068a73b7c56da5758c3f9e5c7375",
         "23.0"
        ],
        [
         "20",
         "001028b78fd413e19704b3867c369d3a",
         "4.0"
        ],
        [
         "21",
         "00104a47c29da701ce41ee52077587d9",
         "4.0"
        ],
        [
         "22",
         "001051abfcfdbed9f87b4266213a5df1",
         "5.0"
        ],
        [
         "23",
         "00114026c1b7b52ab1773f317ef4880b",
         "10.0"
        ],
        [
         "24",
         "001226b2341ef620415ce7bbafcfac28",
         "10.0"
        ],
        [
         "25",
         "0012a5c13793cf51e253f096a7e740dd",
         "35.0"
        ],
        [
         "26",
         "0013280441d86a4f7a8006efdaf1b0fe",
         "2.0"
        ],
        [
         "27",
         "0013cd8e350a7cc76873441e431dd5ee",
         "4.0"
        ],
        [
         "28",
         "001450ebb4a77efb3d68be5f7887cb1e",
         "15.0"
        ],
        [
         "29",
         "00146ad30454993879adaa91c518f68c",
         "8.0"
        ],
        [
         "30",
         "00155f0530cc7b2bf73cc3f81cb01c52",
         "14.0"
        ],
        [
         "31",
         "001574cd5824c0b1ea90dd4f4ba6d5b8",
         null
        ],
        [
         "32",
         "0015bc9fd2d5395446143e8b215d7c75",
         "2.0"
        ],
        [
         "33",
         "0015f7887e2fde13ddaa7b8e385af919",
         "8.0"
        ],
        [
         "34",
         "0017a0b4c1f1bdb9c395fa0ac517109c",
         "20.0"
        ],
        [
         "35",
         "0018c09f333634ca9c80d9ff46e43e9c",
         "5.0"
        ],
        [
         "36",
         "0018f7fde63ca77254dbc47f4ea358b2",
         "7.0"
        ],
        [
         "37",
         "0019c9aaad15b043c48f0a1180f22ce8",
         "2.0"
        ],
        [
         "38",
         "001a57041f56400917a187dd74e6cbc1",
         "2.0"
        ],
        [
         "39",
         "001b4e9b73aa98a6276b241bfd496822",
         "13.0"
        ],
        [
         "40",
         "001c7f05398c45b42eee0d5a77783bca",
         "6.0"
        ],
        [
         "41",
         "001df1ee5c36767aa607001ab1a13a06",
         "4.0"
        ],
        [
         "42",
         "001f150aebb5d897f2059b0460c38449",
         "8.0"
        ],
        [
         "43",
         "001f35d9f262c558fd065346fbf5801d",
         "26.0"
        ],
        [
         "44",
         "001f6f1a5e902ad14e1f709a7215de11",
         "8.0"
        ],
        [
         "45",
         "00205ad9ba1ef4340cef86583294cf82",
         "29.0"
        ],
        [
         "46",
         "002236c4f333bc8df6a5939749eb7869",
         "4.0"
        ],
        [
         "47",
         "002348c1099e3229276c8ad7d4ddc702",
         null
        ],
        [
         "48",
         "002408f390f729598bbac1ef9421c6ae",
         "21.0"
        ],
        [
         "49",
         "002450e9ea44cb90b8a07ba0b197e149",
         "8.0"
        ]
       ],
       "shape": {
        "columns": 2,
        "rows": 99441
       }
      },
      "text/html": [
       "<div>\n",
       "<style scoped>\n",
       "    .dataframe tbody tr th:only-of-type {\n",
       "        vertical-align: middle;\n",
       "    }\n",
       "\n",
       "    .dataframe tbody tr th {\n",
       "        vertical-align: top;\n",
       "    }\n",
       "\n",
       "    .dataframe thead th {\n",
       "        text-align: right;\n",
       "    }\n",
       "</style>\n",
       "<table border=\"1\" class=\"dataframe\">\n",
       "  <thead>\n",
       "    <tr style=\"text-align: right;\">\n",
       "      <th></th>\n",
       "      <th>customer_id</th>\n",
       "      <th>tiempo_envio</th>\n",
       "    </tr>\n",
       "  </thead>\n",
       "  <tbody>\n",
       "    <tr>\n",
       "      <th>0</th>\n",
       "      <td>00012a2ce6f8dcda20d059ce98491703</td>\n",
       "      <td>13.0</td>\n",
       "    </tr>\n",
       "    <tr>\n",
       "      <th>1</th>\n",
       "      <td>000161a058600d5901f007fab4c27140</td>\n",
       "      <td>9.0</td>\n",
       "    </tr>\n",
       "    <tr>\n",
       "      <th>2</th>\n",
       "      <td>0001fd6190edaaf884bcaf3d49edf079</td>\n",
       "      <td>5.0</td>\n",
       "    </tr>\n",
       "    <tr>\n",
       "      <th>3</th>\n",
       "      <td>0002414f95344307404f0ace7a26f1d5</td>\n",
       "      <td>28.0</td>\n",
       "    </tr>\n",
       "    <tr>\n",
       "      <th>4</th>\n",
       "      <td>000379cdec625522490c315e70c7a9fb</td>\n",
       "      <td>11.0</td>\n",
       "    </tr>\n",
       "    <tr>\n",
       "      <th>...</th>\n",
       "      <td>...</td>\n",
       "      <td>...</td>\n",
       "    </tr>\n",
       "    <tr>\n",
       "      <th>99436</th>\n",
       "      <td>fffecc9f79fd8c764f843e9951b11341</td>\n",
       "      <td>12.0</td>\n",
       "    </tr>\n",
       "    <tr>\n",
       "      <th>99437</th>\n",
       "      <td>fffeda5b6d849fbd39689bb92087f431</td>\n",
       "      <td>17.0</td>\n",
       "    </tr>\n",
       "    <tr>\n",
       "      <th>99438</th>\n",
       "      <td>ffff42319e9b2d713724ae527742af25</td>\n",
       "      <td>5.0</td>\n",
       "    </tr>\n",
       "    <tr>\n",
       "      <th>99439</th>\n",
       "      <td>ffffa3172527f765de70084a7e53aae8</td>\n",
       "      <td>12.0</td>\n",
       "    </tr>\n",
       "    <tr>\n",
       "      <th>99440</th>\n",
       "      <td>ffffe8b65bbe3087b653a978c870db99</td>\n",
       "      <td>NaN</td>\n",
       "    </tr>\n",
       "  </tbody>\n",
       "</table>\n",
       "<p>99441 rows × 2 columns</p>\n",
       "</div>"
      ],
      "text/plain": [
       "                            customer_id  tiempo_envio\n",
       "0      00012a2ce6f8dcda20d059ce98491703          13.0\n",
       "1      000161a058600d5901f007fab4c27140           9.0\n",
       "2      0001fd6190edaaf884bcaf3d49edf079           5.0\n",
       "3      0002414f95344307404f0ace7a26f1d5          28.0\n",
       "4      000379cdec625522490c315e70c7a9fb          11.0\n",
       "...                                 ...           ...\n",
       "99436  fffecc9f79fd8c764f843e9951b11341          12.0\n",
       "99437  fffeda5b6d849fbd39689bb92087f431          17.0\n",
       "99438  ffff42319e9b2d713724ae527742af25           5.0\n",
       "99439  ffffa3172527f765de70084a7e53aae8          12.0\n",
       "99440  ffffe8b65bbe3087b653a978c870db99           NaN\n",
       "\n",
       "[99441 rows x 2 columns]"
      ]
     },
     "execution_count": 278,
     "metadata": {},
     "output_type": "execute_result"
    }
   ],
   "source": [
    "#la media va a ser como el tiempo, porque solo tengo datos de una compra, pero para que sea extrapolable\n",
    "media_envios = olist_orders.groupby(\"customer_id\")[\"tiempo_envio\"].mean().reset_index()\n",
    "media_envios"
   ]
  },
  {
   "cell_type": "code",
   "execution_count": 279,
   "metadata": {},
   "outputs": [],
   "source": [
    "media_envios.to_pickle(\"media_envios_data.pkl\")\n",
    "#formato Pickle, que es el formato nativo de Python para almacenar objetos.\n",
    "#Hago esto para llevármelo al notebook de confirmación de hipótesis"
   ]
  },
  {
   "cell_type": "markdown",
   "metadata": {},
   "source": [
    "3- ANALIZO EL TICKET MEDIO POR CLIENTE\n",
    "\n",
    "Datasets utilizados: Olist orders &olist_order_items"
   ]
  },
  {
   "cell_type": "code",
   "execution_count": 280,
   "metadata": {},
   "outputs": [
    {
     "data": {
      "application/vnd.microsoft.datawrangler.viewer.v0+json": {
       "columns": [
        {
         "name": "index",
         "rawType": "int64",
         "type": "integer"
        },
        {
         "name": "order_id",
         "rawType": "object",
         "type": "string"
        },
        {
         "name": "order_item_id",
         "rawType": "int64",
         "type": "integer"
        },
        {
         "name": "product_id",
         "rawType": "object",
         "type": "string"
        },
        {
         "name": "seller_id",
         "rawType": "object",
         "type": "string"
        },
        {
         "name": "shipping_limit_date",
         "rawType": "object",
         "type": "string"
        },
        {
         "name": "price",
         "rawType": "float64",
         "type": "float"
        },
        {
         "name": "freight_value",
         "rawType": "float64",
         "type": "float"
        },
        {
         "name": "customer_id",
         "rawType": "object",
         "type": "string"
        }
       ],
       "conversionMethod": "pd.DataFrame",
       "ref": "d3de539d-bf07-48ea-b05a-d3ec67031732",
       "rows": [
        [
         "0",
         "00010242fe8c5a6d1ba2dd792cb16214",
         "1",
         "4244733e06e7ecb4970a6e2683c13e61",
         "48436dade18ac8b2bce089ec2a041202",
         "2017-09-19 09:45:35",
         "58.9",
         "13.29",
         "3ce436f183e68e07877b285a838db11a"
        ],
        [
         "1",
         "00018f77f2f0320c557190d7a144bdd3",
         "1",
         "e5f2d52b802189ee658865ca93d83a8f",
         "dd7ddc04e1b6c2c614352b383efe2d36",
         "2017-05-03 11:05:13",
         "239.9",
         "19.93",
         "f6dd3ec061db4e3987629fe6b26e5cce"
        ],
        [
         "2",
         "000229ec398224ef6ca0657da4fc703e",
         "1",
         "c777355d18b72b67abbeef9df44fd0fd",
         "5b51032eddd242adc84c38acab88f23d",
         "2018-01-18 14:48:30",
         "199.0",
         "17.87",
         "6489ae5e4333f3693df5ad4372dab6d3"
        ],
        [
         "3",
         "00024acbcdf0a6daa1e931b038114c75",
         "1",
         "7634da152a4610f1595efa32f14722fc",
         "9d7a1d34a5052409006425275ba1c2b4",
         "2018-08-15 10:10:18",
         "12.99",
         "12.79",
         "d4eb9395c8c0431ee92fce09860c5a06"
        ],
        [
         "4",
         "00042b26cf59d7ce69dfabb4e55b4fd9",
         "1",
         "ac6c3623068f30de03045865e4e10089",
         "df560393f3a51e74553ab94004ba5c87",
         "2017-02-13 13:57:51",
         "199.9",
         "18.14",
         "58dbd0b2d70206bf40e62cd34e84d795"
        ],
        [
         "5",
         "00048cc3ae777c65dbb7d2a0634bc1ea",
         "1",
         "ef92defde845ab8450f9d70c526ef70f",
         "6426d21aca402a131fc0a5d0960a3c90",
         "2017-05-23 03:55:27",
         "21.9",
         "12.69",
         "816cbea969fe5b689b39cfc97a506742"
        ],
        [
         "6",
         "00054e8431b9d7675808bcb819fb4a32",
         "1",
         "8d4f2bb7e93e6710a28f34fa83ee7d28",
         "7040e82f899a04d1b434b795a43b4617",
         "2017-12-14 12:10:31",
         "19.9",
         "11.85",
         "32e2e6ab09e778d99bf2e0ecd4898718"
        ],
        [
         "7",
         "000576fe39319847cbb9d288c5617fa6",
         "1",
         "557d850972a7d6f792fd18ae1400d9b6",
         "5996cddab893a4652a15592fb58ab8db",
         "2018-07-10 12:30:45",
         "810.0",
         "70.75",
         "9ed5e522dd9dd85b4af4a077526d8117"
        ],
        [
         "8",
         "0005a1a1728c9d785b8e2b08b904576c",
         "1",
         "310ae3c140ff94b03219ad0adc3c778f",
         "a416b6a846a11724393025641d4edd5e",
         "2018-03-26 18:31:29",
         "145.95",
         "11.65",
         "16150771dfd4776261284213b89c304e"
        ],
        [
         "9",
         "0005f50442cb953dcd1d21e1fb923495",
         "1",
         "4535b0e1091c278dfd193e5a1d63b39f",
         "ba143b05f0110f0dc71ad71b4466ce92",
         "2018-07-06 14:10:56",
         "53.99",
         "11.4",
         "351d3cb2cee3c7fd0af6616c82df21d3"
        ],
        [
         "10",
         "00061f2a7bc09da83e415a52dc8a4af1",
         "1",
         "d63c1011f49d98b976c352955b1c4bea",
         "cc419e0650a3c5ba77189a1882b7556a",
         "2018-03-29 22:28:09",
         "59.99",
         "8.88",
         "c6fc061d86fab1e2b2eac259bac71a49"
        ],
        [
         "11",
         "00063b381e2406b52ad429470734ebd5",
         "1",
         "f177554ea93259a5b282f24e33f65ab6",
         "8602a61d680a10a82cceeeda0d99ea3d",
         "2018-07-31 17:30:39",
         "45.0",
         "12.98",
         "6a899e55865de6549a58d2c6845e5604"
        ],
        [
         "12",
         "0006ec9db01a64e59a68b2c340bf65a7",
         "1",
         "99a4788cb24856965c36a24e339b6058",
         "4a3ca9315b744ce9f8e9374361493884",
         "2018-07-26 17:24:20",
         "74.0",
         "23.32",
         "5d178120c29c61748ea95bac23cb8f25"
        ],
        [
         "13",
         "0008288aa423d2a3f00fcb17cd7d8719",
         "1",
         "368c6c730842d78016ad823897a372db",
         "1f50f920176fa81dab994f9023523100",
         "2018-02-21 02:55:52",
         "49.9",
         "13.37",
         "2355af7c75e7c98b43a87b2a7f210dc5"
        ],
        [
         "14",
         "0008288aa423d2a3f00fcb17cd7d8719",
         "2",
         "368c6c730842d78016ad823897a372db",
         "1f50f920176fa81dab994f9023523100",
         "2018-02-21 02:55:52",
         "49.9",
         "13.37",
         "2355af7c75e7c98b43a87b2a7f210dc5"
        ],
        [
         "15",
         "0009792311464db532ff765bf7b182ae",
         "1",
         "8cab8abac59158715e0d70a36c807415",
         "530ec6109d11eaaf87999465c6afee01",
         "2018-08-17 12:15:10",
         "99.9",
         "27.65",
         "2a30c97668e81df7c17a8b14447aeeba"
        ],
        [
         "16",
         "0009c9a17f916a706d71784483a5d643",
         "1",
         "3f27ac8e699df3d300ec4a5d8c5cf0b2",
         "fcb5ace8bcc92f75707dc0f01a27d269",
         "2018-05-02 09:31:53",
         "639.0",
         "11.34",
         "8a250edc40ebc5c3940ebc940f16a7eb"
        ],
        [
         "17",
         "000aed2e25dbad2f9ddb70584c5a2ded",
         "1",
         "4fa33915031a8cde03dd0d3e8fb27f01",
         "fe2032dab1a61af8794248c8196565c9",
         "2018-05-16 20:57:03",
         "144.0",
         "8.77",
         "fff5169e583fd07fac9fec88962f189d"
        ],
        [
         "18",
         "000c3e6612759851cc3cbb4b83257986",
         "1",
         "b50c950aba0dcead2c48032a690ce817",
         "218d46b86c1881d022bce9c68a7d4b15",
         "2017-08-21 03:33:13",
         "99.0",
         "13.71",
         "3773bcf1a6fbd29233ea1c1b573c4f22"
        ],
        [
         "19",
         "000e562887b1f2006d75e0be9558292e",
         "1",
         "5ed9eaf534f6936b51d0b6c5e4d5c2e9",
         "8cbac7e12637ed9cffa18c7875207478",
         "2018-02-28 12:08:37",
         "25.0",
         "16.11",
         "2b01d668726fb0b751c55918c0437b7b"
        ],
        [
         "20",
         "000e63d38ae8c00bbcb5a30573b99628",
         "1",
         "553e0e7590d3116a072507a3635d2877",
         "1c129092bf23f28a5930387c980c0dfc",
         "2018-03-29 20:07:49",
         "47.9",
         "8.88",
         "98884e672c5ba85f4394f2044e1a3eab"
        ],
        [
         "21",
         "000e906b789b55f64edcb1f84030f90d",
         "1",
         "57d79905de06d8897872c551bfd09358",
         "ea8482cd71df3c1969d7b9473ff13abc",
         "2017-11-27 19:09:02",
         "21.99",
         "11.85",
         "6a3b2fc9f270df258605e22bef19fd88"
        ],
        [
         "22",
         "000f25f4d72195062c040b12dce9a18a",
         "1",
         "1c05e0964302b6cf68ca0d15f326c6ba",
         "7c67e1448b00f6e969d365cea6b010ab",
         "2018-03-21 11:10:11",
         "119.99",
         "44.4",
         "86ade8ebc14f18dd6c3ea75bd0eb7534"
        ],
        [
         "23",
         "001021efaa8636c29475e7734483457d",
         "1",
         "5d7c23067ed3fc8c6e699b9373d5890b",
         "6560211a19b47992c3666cc44a7e94c0",
         "2018-03-05 09:35:41",
         "49.0",
         "15.1",
         "2dfbf74859104caf100df3720a1d833d"
        ],
        [
         "24",
         "0010b2e5201cc5f1ae7e9c6cc8f5bd00",
         "1",
         "5a419dbf24a8c9718fe522b81c69f61a",
         "3504c0cb71d7fa48d967e0e4c94d59d9",
         "2017-09-15 18:04:37",
         "48.9",
         "16.6",
         "57ef317d4818cb42680fc9dfd13867ce"
        ],
        [
         "25",
         "00119ff934e539cf26f92b9ef0cdfed8",
         "1",
         "21b1c2f67a9aafb5af0eb06c13b9dbda",
         "c864036feaab8c1659f65ea4faebe1da",
         "2017-08-11 00:35:12",
         "219.9",
         "16.98",
         "7dd2e283f47deac853cf70f3b63c8d86"
        ],
        [
         "26",
         "0011d82c4b53e22e84023405fb467e57",
         "1",
         "c389f712c4b4510bc997cee93e8b1a28",
         "bfd27a966d91cfaafdb25d076585f0da",
         "2018-01-29 21:51:25",
         "289.0",
         "26.33",
         "2013d892495e1a101d742d533d2d1119"
        ],
        [
         "27",
         "00125cb692d04887809806618a2a145f",
         "1",
         "1c0c0093a48f13ba70d0c6b0a9157cb7",
         "41b39e28db005d9731d9d485a83b4c38",
         "2017-03-29 13:05:42",
         "109.9",
         "25.51",
         "8afb90a97ee661103014329b1bcea1a2"
        ],
        [
         "28",
         "00130c0eee84a3d909e75bc08c5c3ca1",
         "1",
         "89321f94e35fc6d7903d36f74e351d40",
         "16090f2ca825584b5a147ab24aa30c86",
         "2018-06-14 05:16:24",
         "27.9",
         "7.94",
         "47d656c08a282ec5ab4c1f18303a3a30"
        ],
        [
         "29",
         "0013503b13da1eac686219390b7d641b",
         "1",
         "38afdf723b95d455b418a0f57d623c6b",
         "1554a68530182680ad5c8b042c3ab563",
         "2017-12-13 03:16:36",
         "119.9",
         "17.32",
         "f7277fce45fad3165379c15cacf5ddbe"
        ],
        [
         "30",
         "00137e170939bba5a3134e2386413108",
         "1",
         "672e757f331900b9deea127a2a7b79fd",
         "e59aa562b9f8076dd550fcddf0e73491",
         "2017-11-30 06:30:55",
         "397.0",
         "24.65",
         "7b63cba66b8e6d002e94d0990c1e2868"
        ],
        [
         "31",
         "001427c0ec99cf8af737bd88e92fd444",
         "1",
         "28b4eced95a52d9c437a4caf9d311b95",
         "77530e9772f57a62c906e1c21538ab82",
         "2018-04-12 19:08:28",
         "59.9",
         "23.35",
         "eab9c552374be06ed15923016dc9e588"
        ],
        [
         "32",
         "00143d0f86d6fbd9f9b38ab440ac16f5",
         "1",
         "e95ee6822b66ac6058e2e4aff656071a",
         "a17f621c590ea0fab3d5d883e1630ec6",
         "2017-10-20 16:07:52",
         "21.33",
         "15.1",
         "2e45292979b9b2700ea09560eeb0f803"
        ],
        [
         "33",
         "00143d0f86d6fbd9f9b38ab440ac16f5",
         "2",
         "e95ee6822b66ac6058e2e4aff656071a",
         "a17f621c590ea0fab3d5d883e1630ec6",
         "2017-10-20 16:07:52",
         "21.33",
         "15.1",
         "2e45292979b9b2700ea09560eeb0f803"
        ],
        [
         "34",
         "00143d0f86d6fbd9f9b38ab440ac16f5",
         "3",
         "e95ee6822b66ac6058e2e4aff656071a",
         "a17f621c590ea0fab3d5d883e1630ec6",
         "2017-10-20 16:07:52",
         "21.33",
         "15.1",
         "2e45292979b9b2700ea09560eeb0f803"
        ],
        [
         "35",
         "0014ae671de39511f7575066200733b7",
         "1",
         "23365beed316535b4105bd800c46670e",
         "92eb0f42c21942b6552362b9b114707d",
         "2017-05-29 03:15:24",
         "16.5",
         "14.1",
         "41065d9dcea52218c3943d2eed072b97"
        ],
        [
         "36",
         "0015ebb40fb17286bea51d4607c4733c",
         "1",
         "50fd2b788dc166edd20512370dac54df",
         "8b321bb669392f5163d04c59e235e066",
         "2018-01-18 09:11:24",
         "21.9",
         "15.1",
         "da43a556bf5c36a1104c473cff77de6c"
        ],
        [
         "37",
         "00169e31ef4b29deaae414f9a5e95929",
         "1",
         "b10eba910a974df70b8a12d0665cdb9e",
         "a3e9a2c700480d9bb01fba070ba80a0e",
         "2018-01-23 03:35:47",
         "39.0",
         "16.11",
         "efb3830adb68fb8a89c948774388ec28"
        ],
        [
         "38",
         "0016dfedd97fc2950e388d2971d718c7",
         "1",
         "4089861a1bd4685da70bddd6b4f974f1",
         "a35124e2d763d7ca3fbe3b97d143200f",
         "2017-05-05 10:05:12",
         "49.75",
         "20.8",
         "2c8b917c5d7dd720ebe36a5ed3b501ec"
        ],
        [
         "39",
         "0017afd5076e074a48f1f1a4c7bac9c5",
         "1",
         "fe59a1e006df3ac42bf0ceb876d70969",
         "25c5c91f63607446a97b143d2d535d31",
         "2017-04-24 22:25:19",
         "809.1",
         "44.29",
         "8085a9af46f619bc25966f151a362b0d"
        ],
        [
         "40",
         "001862358bf858722e1e2ae000cfed8b",
         "1",
         "c6dd917a0be2a704582055949915ab32",
         "7a67c85e85bb2ce8582c35f2203ad736",
         "2018-02-13 19:10:37",
         "99.99",
         "13.72",
         "2cf869dd40c98f29686f636d83545cce"
        ],
        [
         "41",
         "0019c29108428acffd089c36103c9440",
         "1",
         "28b4eced95a52d9c437a4caf9d311b95",
         "77530e9772f57a62c906e1c21538ab82",
         "2018-03-12 06:50:26",
         "59.9",
         "19.95",
         "5f6bbac628ae418db4e0f92932f899c1"
        ],
        [
         "42",
         "001ab0a7578dd66cd4b0a71f5b6e1e41",
         "1",
         "0b0172eb0fd18479d29c3bc122c058c2",
         "5656537e588803a555b8eb41f07a944b",
         "2018-01-04 02:33:42",
         "24.89",
         "17.63",
         "8bb3bef4e75a95524235cdc11a7331af"
        ],
        [
         "43",
         "001ab0a7578dd66cd4b0a71f5b6e1e41",
         "2",
         "0b0172eb0fd18479d29c3bc122c058c2",
         "5656537e588803a555b8eb41f07a944b",
         "2018-01-04 02:33:42",
         "24.89",
         "17.63",
         "8bb3bef4e75a95524235cdc11a7331af"
        ],
        [
         "44",
         "001ab0a7578dd66cd4b0a71f5b6e1e41",
         "3",
         "0b0172eb0fd18479d29c3bc122c058c2",
         "5656537e588803a555b8eb41f07a944b",
         "2018-01-04 02:33:42",
         "24.89",
         "17.63",
         "8bb3bef4e75a95524235cdc11a7331af"
        ],
        [
         "45",
         "001ac194d4a326a6fa99b581e9a3d963",
         "1",
         "dbaee28f4ee64465838a229582d77520",
         "ffc470761de7d0232558ba5e786e57b7",
         "2018-07-10 02:51:10",
         "54.0",
         "8.54",
         "f4f17ada91ef010cbde3892ae54e625f"
        ],
        [
         "46",
         "001b76dd48a5b1eee3e87778daa40df8",
         "1",
         "dbb67791e405873b259e4656bf971246",
         "9c0e69c7bf2619675bbadf47b43f655a",
         "2018-04-02 17:50:17",
         "81.99",
         "13.01",
         "a62843b08086d1629415a203a7fd419d"
        ],
        [
         "47",
         "001c85b5f68d2be0cb0797afc9e8ce9a",
         "1",
         "84f456958365164420cfc80fbe4c7fab",
         "4a3ca9315b744ce9f8e9374361493884",
         "2017-11-29 22:38:47",
         "99.0",
         "13.71",
         "48ed31e735f1c420ed6ca3637b7c744d"
        ],
        [
         "48",
         "001d8f0e34a38c37f7dba2a37d4eba8b",
         "1",
         "e67307ff0f15ade43fcb6e670be7a74c",
         "f4aba7c0bca51484c30ab7bdc34bcdd1",
         "2017-05-18 17:35:11",
         "18.99",
         "7.78",
         "d987da9fb4086ab7c2c0f83963cd6722"
        ],
        [
         "49",
         "001d8f0e34a38c37f7dba2a37d4eba8b",
         "2",
         "e67307ff0f15ade43fcb6e670be7a74c",
         "f4aba7c0bca51484c30ab7bdc34bcdd1",
         "2017-05-18 17:35:11",
         "18.99",
         "7.78",
         "d987da9fb4086ab7c2c0f83963cd6722"
        ]
       ],
       "shape": {
        "columns": 8,
        "rows": 112650
       }
      },
      "text/html": [
       "<div>\n",
       "<style scoped>\n",
       "    .dataframe tbody tr th:only-of-type {\n",
       "        vertical-align: middle;\n",
       "    }\n",
       "\n",
       "    .dataframe tbody tr th {\n",
       "        vertical-align: top;\n",
       "    }\n",
       "\n",
       "    .dataframe thead th {\n",
       "        text-align: right;\n",
       "    }\n",
       "</style>\n",
       "<table border=\"1\" class=\"dataframe\">\n",
       "  <thead>\n",
       "    <tr style=\"text-align: right;\">\n",
       "      <th></th>\n",
       "      <th>order_id</th>\n",
       "      <th>order_item_id</th>\n",
       "      <th>product_id</th>\n",
       "      <th>seller_id</th>\n",
       "      <th>shipping_limit_date</th>\n",
       "      <th>price</th>\n",
       "      <th>freight_value</th>\n",
       "      <th>customer_id</th>\n",
       "    </tr>\n",
       "  </thead>\n",
       "  <tbody>\n",
       "    <tr>\n",
       "      <th>0</th>\n",
       "      <td>00010242fe8c5a6d1ba2dd792cb16214</td>\n",
       "      <td>1</td>\n",
       "      <td>4244733e06e7ecb4970a6e2683c13e61</td>\n",
       "      <td>48436dade18ac8b2bce089ec2a041202</td>\n",
       "      <td>2017-09-19 09:45:35</td>\n",
       "      <td>58.90</td>\n",
       "      <td>13.29</td>\n",
       "      <td>3ce436f183e68e07877b285a838db11a</td>\n",
       "    </tr>\n",
       "    <tr>\n",
       "      <th>1</th>\n",
       "      <td>00018f77f2f0320c557190d7a144bdd3</td>\n",
       "      <td>1</td>\n",
       "      <td>e5f2d52b802189ee658865ca93d83a8f</td>\n",
       "      <td>dd7ddc04e1b6c2c614352b383efe2d36</td>\n",
       "      <td>2017-05-03 11:05:13</td>\n",
       "      <td>239.90</td>\n",
       "      <td>19.93</td>\n",
       "      <td>f6dd3ec061db4e3987629fe6b26e5cce</td>\n",
       "    </tr>\n",
       "    <tr>\n",
       "      <th>2</th>\n",
       "      <td>000229ec398224ef6ca0657da4fc703e</td>\n",
       "      <td>1</td>\n",
       "      <td>c777355d18b72b67abbeef9df44fd0fd</td>\n",
       "      <td>5b51032eddd242adc84c38acab88f23d</td>\n",
       "      <td>2018-01-18 14:48:30</td>\n",
       "      <td>199.00</td>\n",
       "      <td>17.87</td>\n",
       "      <td>6489ae5e4333f3693df5ad4372dab6d3</td>\n",
       "    </tr>\n",
       "    <tr>\n",
       "      <th>3</th>\n",
       "      <td>00024acbcdf0a6daa1e931b038114c75</td>\n",
       "      <td>1</td>\n",
       "      <td>7634da152a4610f1595efa32f14722fc</td>\n",
       "      <td>9d7a1d34a5052409006425275ba1c2b4</td>\n",
       "      <td>2018-08-15 10:10:18</td>\n",
       "      <td>12.99</td>\n",
       "      <td>12.79</td>\n",
       "      <td>d4eb9395c8c0431ee92fce09860c5a06</td>\n",
       "    </tr>\n",
       "    <tr>\n",
       "      <th>4</th>\n",
       "      <td>00042b26cf59d7ce69dfabb4e55b4fd9</td>\n",
       "      <td>1</td>\n",
       "      <td>ac6c3623068f30de03045865e4e10089</td>\n",
       "      <td>df560393f3a51e74553ab94004ba5c87</td>\n",
       "      <td>2017-02-13 13:57:51</td>\n",
       "      <td>199.90</td>\n",
       "      <td>18.14</td>\n",
       "      <td>58dbd0b2d70206bf40e62cd34e84d795</td>\n",
       "    </tr>\n",
       "    <tr>\n",
       "      <th>...</th>\n",
       "      <td>...</td>\n",
       "      <td>...</td>\n",
       "      <td>...</td>\n",
       "      <td>...</td>\n",
       "      <td>...</td>\n",
       "      <td>...</td>\n",
       "      <td>...</td>\n",
       "      <td>...</td>\n",
       "    </tr>\n",
       "    <tr>\n",
       "      <th>112645</th>\n",
       "      <td>fffc94f6ce00a00581880bf54a75a037</td>\n",
       "      <td>1</td>\n",
       "      <td>4aa6014eceb682077f9dc4bffebc05b0</td>\n",
       "      <td>b8bc237ba3788b23da09c0f1f3a3288c</td>\n",
       "      <td>2018-05-02 04:11:01</td>\n",
       "      <td>299.99</td>\n",
       "      <td>43.41</td>\n",
       "      <td>b51593916b4b8e0d6f66f2ae24f2673d</td>\n",
       "    </tr>\n",
       "    <tr>\n",
       "      <th>112646</th>\n",
       "      <td>fffcd46ef2263f404302a634eb57f7eb</td>\n",
       "      <td>1</td>\n",
       "      <td>32e07fd915822b0765e448c4dd74c828</td>\n",
       "      <td>f3c38ab652836d21de61fb8314b69182</td>\n",
       "      <td>2018-07-20 04:31:48</td>\n",
       "      <td>350.00</td>\n",
       "      <td>36.53</td>\n",
       "      <td>84c5d4fbaf120aae381fad077416eaa0</td>\n",
       "    </tr>\n",
       "    <tr>\n",
       "      <th>112647</th>\n",
       "      <td>fffce4705a9662cd70adb13d4a31832d</td>\n",
       "      <td>1</td>\n",
       "      <td>72a30483855e2eafc67aee5dc2560482</td>\n",
       "      <td>c3cfdc648177fdbbbb35635a37472c53</td>\n",
       "      <td>2017-10-30 17:14:25</td>\n",
       "      <td>99.90</td>\n",
       "      <td>16.95</td>\n",
       "      <td>29309aa813182aaddc9b259e31b870e6</td>\n",
       "    </tr>\n",
       "    <tr>\n",
       "      <th>112648</th>\n",
       "      <td>fffe18544ffabc95dfada21779c9644f</td>\n",
       "      <td>1</td>\n",
       "      <td>9c422a519119dcad7575db5af1ba540e</td>\n",
       "      <td>2b3e4a2a3ea8e01938cabda2a3e5cc79</td>\n",
       "      <td>2017-08-21 00:04:32</td>\n",
       "      <td>55.99</td>\n",
       "      <td>8.72</td>\n",
       "      <td>b5e6afd5a41800fdf401e0272ca74655</td>\n",
       "    </tr>\n",
       "    <tr>\n",
       "      <th>112649</th>\n",
       "      <td>fffe41c64501cc87c801fd61db3f6244</td>\n",
       "      <td>1</td>\n",
       "      <td>350688d9dc1e75ff97be326363655e01</td>\n",
       "      <td>f7ccf836d21b2fb1de37564105216cc1</td>\n",
       "      <td>2018-06-12 17:10:13</td>\n",
       "      <td>43.00</td>\n",
       "      <td>12.79</td>\n",
       "      <td>96d649da0cc4ff33bb408b199d4c7dcf</td>\n",
       "    </tr>\n",
       "  </tbody>\n",
       "</table>\n",
       "<p>112650 rows × 8 columns</p>\n",
       "</div>"
      ],
      "text/plain": [
       "                                order_id  order_item_id  \\\n",
       "0       00010242fe8c5a6d1ba2dd792cb16214              1   \n",
       "1       00018f77f2f0320c557190d7a144bdd3              1   \n",
       "2       000229ec398224ef6ca0657da4fc703e              1   \n",
       "3       00024acbcdf0a6daa1e931b038114c75              1   \n",
       "4       00042b26cf59d7ce69dfabb4e55b4fd9              1   \n",
       "...                                  ...            ...   \n",
       "112645  fffc94f6ce00a00581880bf54a75a037              1   \n",
       "112646  fffcd46ef2263f404302a634eb57f7eb              1   \n",
       "112647  fffce4705a9662cd70adb13d4a31832d              1   \n",
       "112648  fffe18544ffabc95dfada21779c9644f              1   \n",
       "112649  fffe41c64501cc87c801fd61db3f6244              1   \n",
       "\n",
       "                              product_id                         seller_id  \\\n",
       "0       4244733e06e7ecb4970a6e2683c13e61  48436dade18ac8b2bce089ec2a041202   \n",
       "1       e5f2d52b802189ee658865ca93d83a8f  dd7ddc04e1b6c2c614352b383efe2d36   \n",
       "2       c777355d18b72b67abbeef9df44fd0fd  5b51032eddd242adc84c38acab88f23d   \n",
       "3       7634da152a4610f1595efa32f14722fc  9d7a1d34a5052409006425275ba1c2b4   \n",
       "4       ac6c3623068f30de03045865e4e10089  df560393f3a51e74553ab94004ba5c87   \n",
       "...                                  ...                               ...   \n",
       "112645  4aa6014eceb682077f9dc4bffebc05b0  b8bc237ba3788b23da09c0f1f3a3288c   \n",
       "112646  32e07fd915822b0765e448c4dd74c828  f3c38ab652836d21de61fb8314b69182   \n",
       "112647  72a30483855e2eafc67aee5dc2560482  c3cfdc648177fdbbbb35635a37472c53   \n",
       "112648  9c422a519119dcad7575db5af1ba540e  2b3e4a2a3ea8e01938cabda2a3e5cc79   \n",
       "112649  350688d9dc1e75ff97be326363655e01  f7ccf836d21b2fb1de37564105216cc1   \n",
       "\n",
       "        shipping_limit_date   price  freight_value  \\\n",
       "0       2017-09-19 09:45:35   58.90          13.29   \n",
       "1       2017-05-03 11:05:13  239.90          19.93   \n",
       "2       2018-01-18 14:48:30  199.00          17.87   \n",
       "3       2018-08-15 10:10:18   12.99          12.79   \n",
       "4       2017-02-13 13:57:51  199.90          18.14   \n",
       "...                     ...     ...            ...   \n",
       "112645  2018-05-02 04:11:01  299.99          43.41   \n",
       "112646  2018-07-20 04:31:48  350.00          36.53   \n",
       "112647  2017-10-30 17:14:25   99.90          16.95   \n",
       "112648  2017-08-21 00:04:32   55.99           8.72   \n",
       "112649  2018-06-12 17:10:13   43.00          12.79   \n",
       "\n",
       "                             customer_id  \n",
       "0       3ce436f183e68e07877b285a838db11a  \n",
       "1       f6dd3ec061db4e3987629fe6b26e5cce  \n",
       "2       6489ae5e4333f3693df5ad4372dab6d3  \n",
       "3       d4eb9395c8c0431ee92fce09860c5a06  \n",
       "4       58dbd0b2d70206bf40e62cd34e84d795  \n",
       "...                                  ...  \n",
       "112645  b51593916b4b8e0d6f66f2ae24f2673d  \n",
       "112646  84c5d4fbaf120aae381fad077416eaa0  \n",
       "112647  29309aa813182aaddc9b259e31b870e6  \n",
       "112648  b5e6afd5a41800fdf401e0272ca74655  \n",
       "112649  96d649da0cc4ff33bb408b199d4c7dcf  \n",
       "\n",
       "[112650 rows x 8 columns]"
      ]
     },
     "execution_count": 280,
     "metadata": {},
     "output_type": "execute_result"
    }
   ],
   "source": [
    "olist_order_items"
   ]
  },
  {
   "cell_type": "code",
   "execution_count": 281,
   "metadata": {},
   "outputs": [
    {
     "name": "stdout",
     "output_type": "stream",
     "text": [
      "<class 'pandas.core.frame.DataFrame'>\n",
      "RangeIndex: 112650 entries, 0 to 112649\n",
      "Data columns (total 7 columns):\n",
      " #   Column               Non-Null Count   Dtype  \n",
      "---  ------               --------------   -----  \n",
      " 0   order_id             112650 non-null  object \n",
      " 1   order_item_id        112650 non-null  int64  \n",
      " 2   product_id           112650 non-null  object \n",
      " 3   seller_id            112650 non-null  object \n",
      " 4   shipping_limit_date  112650 non-null  object \n",
      " 5   price                112650 non-null  float64\n",
      " 6   freight_value        112650 non-null  float64\n",
      "dtypes: float64(2), int64(1), object(4)\n",
      "memory usage: 6.0+ MB\n"
     ]
    }
   ],
   "source": [
    "#Cargo dataset de items porque el de orders ya lo tengo\n",
    "olist_order_items= pd.read_csv(\"olist_order_items_dataset.csv\")\n",
    "olist_order_items.info()"
   ]
  },
  {
   "cell_type": "code",
   "execution_count": 282,
   "metadata": {},
   "outputs": [],
   "source": [
    "#Mergeo para tener customer id\n",
    "olist_order_items = olist_order_items.merge(olist_orders[[\"order_id\", \"customer_id\"]], on=\"order_id\", how=\"left\")\n",
    "#olist_order_items.head(2)"
   ]
  },
  {
   "cell_type": "code",
   "execution_count": 283,
   "metadata": {},
   "outputs": [
    {
     "data": {
      "application/vnd.microsoft.datawrangler.viewer.v0+json": {
       "columns": [
        {
         "name": "index",
         "rawType": "int64",
         "type": "integer"
        },
        {
         "name": "order_id",
         "rawType": "object",
         "type": "string"
        },
        {
         "name": "price",
         "rawType": "float64",
         "type": "float"
        }
       ],
       "conversionMethod": "pd.DataFrame",
       "ref": "583e9622-8a8b-4f88-afb6-fe8f6993f7e4",
       "rows": [
        [
         "0",
         "00010242fe8c5a6d1ba2dd792cb16214",
         "58.9"
        ],
        [
         "1",
         "00018f77f2f0320c557190d7a144bdd3",
         "239.9"
        ],
        [
         "2",
         "000229ec398224ef6ca0657da4fc703e",
         "199.0"
        ],
        [
         "3",
         "00024acbcdf0a6daa1e931b038114c75",
         "12.99"
        ],
        [
         "4",
         "00042b26cf59d7ce69dfabb4e55b4fd9",
         "199.9"
        ],
        [
         "5",
         "00048cc3ae777c65dbb7d2a0634bc1ea",
         "21.9"
        ],
        [
         "6",
         "00054e8431b9d7675808bcb819fb4a32",
         "19.9"
        ],
        [
         "7",
         "000576fe39319847cbb9d288c5617fa6",
         "810.0"
        ],
        [
         "8",
         "0005a1a1728c9d785b8e2b08b904576c",
         "145.95"
        ],
        [
         "9",
         "0005f50442cb953dcd1d21e1fb923495",
         "53.99"
        ],
        [
         "10",
         "00061f2a7bc09da83e415a52dc8a4af1",
         "59.99"
        ],
        [
         "11",
         "00063b381e2406b52ad429470734ebd5",
         "45.0"
        ],
        [
         "12",
         "0006ec9db01a64e59a68b2c340bf65a7",
         "74.0"
        ],
        [
         "13",
         "0008288aa423d2a3f00fcb17cd7d8719",
         "99.8"
        ],
        [
         "14",
         "0009792311464db532ff765bf7b182ae",
         "99.9"
        ],
        [
         "15",
         "0009c9a17f916a706d71784483a5d643",
         "639.0"
        ],
        [
         "16",
         "000aed2e25dbad2f9ddb70584c5a2ded",
         "144.0"
        ],
        [
         "17",
         "000c3e6612759851cc3cbb4b83257986",
         "99.0"
        ],
        [
         "18",
         "000e562887b1f2006d75e0be9558292e",
         "25.0"
        ],
        [
         "19",
         "000e63d38ae8c00bbcb5a30573b99628",
         "47.9"
        ],
        [
         "20",
         "000e906b789b55f64edcb1f84030f90d",
         "21.99"
        ],
        [
         "21",
         "000f25f4d72195062c040b12dce9a18a",
         "119.99"
        ],
        [
         "22",
         "001021efaa8636c29475e7734483457d",
         "49.0"
        ],
        [
         "23",
         "0010b2e5201cc5f1ae7e9c6cc8f5bd00",
         "48.9"
        ],
        [
         "24",
         "00119ff934e539cf26f92b9ef0cdfed8",
         "219.9"
        ],
        [
         "25",
         "0011d82c4b53e22e84023405fb467e57",
         "289.0"
        ],
        [
         "26",
         "00125cb692d04887809806618a2a145f",
         "109.9"
        ],
        [
         "27",
         "00130c0eee84a3d909e75bc08c5c3ca1",
         "27.9"
        ],
        [
         "28",
         "0013503b13da1eac686219390b7d641b",
         "119.9"
        ],
        [
         "29",
         "00137e170939bba5a3134e2386413108",
         "397.0"
        ],
        [
         "30",
         "001427c0ec99cf8af737bd88e92fd444",
         "59.9"
        ],
        [
         "31",
         "00143d0f86d6fbd9f9b38ab440ac16f5",
         "63.989999999999995"
        ],
        [
         "32",
         "0014ae671de39511f7575066200733b7",
         "16.5"
        ],
        [
         "33",
         "0015ebb40fb17286bea51d4607c4733c",
         "21.9"
        ],
        [
         "34",
         "00169e31ef4b29deaae414f9a5e95929",
         "39.0"
        ],
        [
         "35",
         "0016dfedd97fc2950e388d2971d718c7",
         "49.75"
        ],
        [
         "36",
         "0017afd5076e074a48f1f1a4c7bac9c5",
         "809.1"
        ],
        [
         "37",
         "001862358bf858722e1e2ae000cfed8b",
         "99.99"
        ],
        [
         "38",
         "0019c29108428acffd089c36103c9440",
         "59.9"
        ],
        [
         "39",
         "001ab0a7578dd66cd4b0a71f5b6e1e41",
         "74.67"
        ],
        [
         "40",
         "001ac194d4a326a6fa99b581e9a3d963",
         "54.0"
        ],
        [
         "41",
         "001b76dd48a5b1eee3e87778daa40df8",
         "81.99"
        ],
        [
         "42",
         "001c85b5f68d2be0cb0797afc9e8ce9a",
         "99.0"
        ],
        [
         "43",
         "001d8f0e34a38c37f7dba2a37d4eba8b",
         "37.98"
        ],
        [
         "44",
         "001daeb0eddc45b999bad0801ad9d273",
         "38.33"
        ],
        [
         "45",
         "001dbc16dc51075e987543d23a0507c7",
         "69.9"
        ],
        [
         "46",
         "001e7ba991be1b19605ca0316e7130f9",
         "195.0"
        ],
        [
         "47",
         "001e7cf2ad6bef3ade12ebc56ceaf0f3",
         "35.9"
        ],
        [
         "48",
         "0020262c8a370bd5a174ea6a2a267321",
         "79.5"
        ],
        [
         "49",
         "0020a222f55eb79a372d0efee3cca688",
         "29.99"
        ]
       ],
       "shape": {
        "columns": 2,
        "rows": 98666
       }
      },
      "text/html": [
       "<div>\n",
       "<style scoped>\n",
       "    .dataframe tbody tr th:only-of-type {\n",
       "        vertical-align: middle;\n",
       "    }\n",
       "\n",
       "    .dataframe tbody tr th {\n",
       "        vertical-align: top;\n",
       "    }\n",
       "\n",
       "    .dataframe thead th {\n",
       "        text-align: right;\n",
       "    }\n",
       "</style>\n",
       "<table border=\"1\" class=\"dataframe\">\n",
       "  <thead>\n",
       "    <tr style=\"text-align: right;\">\n",
       "      <th></th>\n",
       "      <th>order_id</th>\n",
       "      <th>price</th>\n",
       "    </tr>\n",
       "  </thead>\n",
       "  <tbody>\n",
       "    <tr>\n",
       "      <th>0</th>\n",
       "      <td>00010242fe8c5a6d1ba2dd792cb16214</td>\n",
       "      <td>58.90</td>\n",
       "    </tr>\n",
       "    <tr>\n",
       "      <th>1</th>\n",
       "      <td>00018f77f2f0320c557190d7a144bdd3</td>\n",
       "      <td>239.90</td>\n",
       "    </tr>\n",
       "    <tr>\n",
       "      <th>2</th>\n",
       "      <td>000229ec398224ef6ca0657da4fc703e</td>\n",
       "      <td>199.00</td>\n",
       "    </tr>\n",
       "    <tr>\n",
       "      <th>3</th>\n",
       "      <td>00024acbcdf0a6daa1e931b038114c75</td>\n",
       "      <td>12.99</td>\n",
       "    </tr>\n",
       "    <tr>\n",
       "      <th>4</th>\n",
       "      <td>00042b26cf59d7ce69dfabb4e55b4fd9</td>\n",
       "      <td>199.90</td>\n",
       "    </tr>\n",
       "    <tr>\n",
       "      <th>...</th>\n",
       "      <td>...</td>\n",
       "      <td>...</td>\n",
       "    </tr>\n",
       "    <tr>\n",
       "      <th>98661</th>\n",
       "      <td>fffc94f6ce00a00581880bf54a75a037</td>\n",
       "      <td>299.99</td>\n",
       "    </tr>\n",
       "    <tr>\n",
       "      <th>98662</th>\n",
       "      <td>fffcd46ef2263f404302a634eb57f7eb</td>\n",
       "      <td>350.00</td>\n",
       "    </tr>\n",
       "    <tr>\n",
       "      <th>98663</th>\n",
       "      <td>fffce4705a9662cd70adb13d4a31832d</td>\n",
       "      <td>99.90</td>\n",
       "    </tr>\n",
       "    <tr>\n",
       "      <th>98664</th>\n",
       "      <td>fffe18544ffabc95dfada21779c9644f</td>\n",
       "      <td>55.99</td>\n",
       "    </tr>\n",
       "    <tr>\n",
       "      <th>98665</th>\n",
       "      <td>fffe41c64501cc87c801fd61db3f6244</td>\n",
       "      <td>43.00</td>\n",
       "    </tr>\n",
       "  </tbody>\n",
       "</table>\n",
       "<p>98666 rows × 2 columns</p>\n",
       "</div>"
      ],
      "text/plain": [
       "                               order_id   price\n",
       "0      00010242fe8c5a6d1ba2dd792cb16214   58.90\n",
       "1      00018f77f2f0320c557190d7a144bdd3  239.90\n",
       "2      000229ec398224ef6ca0657da4fc703e  199.00\n",
       "3      00024acbcdf0a6daa1e931b038114c75   12.99\n",
       "4      00042b26cf59d7ce69dfabb4e55b4fd9  199.90\n",
       "...                                 ...     ...\n",
       "98661  fffc94f6ce00a00581880bf54a75a037  299.99\n",
       "98662  fffcd46ef2263f404302a634eb57f7eb  350.00\n",
       "98663  fffce4705a9662cd70adb13d4a31832d   99.90\n",
       "98664  fffe18544ffabc95dfada21779c9644f   55.99\n",
       "98665  fffe41c64501cc87c801fd61db3f6244   43.00\n",
       "\n",
       "[98666 rows x 2 columns]"
      ]
     },
     "execution_count": 283,
     "metadata": {},
     "output_type": "execute_result"
    }
   ],
   "source": [
    "#Agrupo por order id para obtener el valor total de cada pedido\n",
    "ticket_por_venta = olist_order_items.groupby(\"order_id\")[\"price\"].sum().reset_index()\n",
    "ticket_por_venta"
   ]
  },
  {
   "cell_type": "code",
   "execution_count": 284,
   "metadata": {},
   "outputs": [],
   "source": [
    "\n",
    "#Mergeo con orders para asociar la información del cliente a ticket_por_venta\n",
    "ticket_por_venta= olist_orders.merge(ticket_por_venta, on=\"order_id\")\n",
    "#ticket_por_venta"
   ]
  },
  {
   "cell_type": "code",
   "execution_count": 285,
   "metadata": {},
   "outputs": [],
   "source": [
    "\n",
    "#Agrupo por customer id para sacar la media de compra por cada cliente\n",
    "media_ticket_por_venta = ticket_por_venta.groupby(\"customer_id\")[\"price\"].mean().reset_index()\n",
    "#media_ticket_por_venta"
   ]
  },
  {
   "cell_type": "code",
   "execution_count": 286,
   "metadata": {},
   "outputs": [
    {
     "data": {
      "application/vnd.microsoft.datawrangler.viewer.v0+json": {
       "columns": [
        {
         "name": "index",
         "rawType": "int64",
         "type": "integer"
        },
        {
         "name": "customer_id",
         "rawType": "object",
         "type": "string"
        },
        {
         "name": "media_valor_ticket_por_venta",
         "rawType": "float64",
         "type": "float"
        }
       ],
       "conversionMethod": "pd.DataFrame",
       "ref": "c5c9e73d-1864-4c0a-8b84-1a2c2099deb6",
       "rows": [
        [
         "0",
         "00012a2ce6f8dcda20d059ce98491703",
         "89.8"
        ],
        [
         "1",
         "000161a058600d5901f007fab4c27140",
         "54.9"
        ],
        [
         "2",
         "0001fd6190edaaf884bcaf3d49edf079",
         "179.99"
        ],
        [
         "3",
         "0002414f95344307404f0ace7a26f1d5",
         "149.9"
        ],
        [
         "4",
         "000379cdec625522490c315e70c7a9fb",
         "93.0"
        ],
        [
         "5",
         "0004164d20a9e969af783496f3408652",
         "59.99"
        ],
        [
         "6",
         "000419c5494106c306a97b5635748086",
         "34.3"
        ],
        [
         "7",
         "00046a560d407e99b969756e0b10f282",
         "120.9"
        ],
        [
         "8",
         "00050bf6e01e69d5c0fd612f1bcfb69c",
         "69.99"
        ],
        [
         "9",
         "000598caf2ef4117407665ac33275130",
         "1107.0"
        ],
        [
         "10",
         "0005aefbb696d34b3424dccd0a0e9fd0",
         "134.9"
        ],
        [
         "11",
         "00062b33cb9f6fe976afdcff967ea74d",
         "47.99"
        ],
        [
         "12",
         "00066ccbe787a588c52bd5ff404590e3",
         "199.6"
        ],
        [
         "13",
         "00072d033fe2e59061ae5c3aff1a2be5",
         "89.9"
        ],
        [
         "14",
         "0009a69b72033b2d0ec8c69fc70ef768",
         "159.9"
        ],
        [
         "15",
         "000bf8121c3412d3057d32371c5d3395",
         "30.0"
        ],
        [
         "16",
         "000e943451fc2788ca6ac98a682f2f49",
         "89.9"
        ],
        [
         "17",
         "000f17e290c26b28549908a04cfe36c1",
         "122.9"
        ],
        [
         "18",
         "000fd45d6fedae68fc6676036610f879",
         "53.99"
        ],
        [
         "19",
         "0010068a73b7c56da5758c3f9e5c7375",
         "29.99"
        ],
        [
         "20",
         "001028b78fd413e19704b3867c369d3a",
         "29.9"
        ],
        [
         "21",
         "00104a47c29da701ce41ee52077587d9",
         "83.99"
        ],
        [
         "22",
         "001051abfcfdbed9f87b4266213a5df1",
         "49.97"
        ],
        [
         "23",
         "00114026c1b7b52ab1773f317ef4880b",
         "49.9"
        ],
        [
         "24",
         "001226b2341ef620415ce7bbafcfac28",
         "29.9"
        ],
        [
         "25",
         "0012a5c13793cf51e253f096a7e740dd",
         "349.9"
        ],
        [
         "26",
         "0013280441d86a4f7a8006efdaf1b0fe",
         "149.9"
        ],
        [
         "27",
         "0013cd8e350a7cc76873441e431dd5ee",
         "79.9"
        ],
        [
         "28",
         "001450ebb4a77efb3d68be5f7887cb1e",
         "37.64"
        ],
        [
         "29",
         "00146ad30454993879adaa91c518f68c",
         "199.9"
        ],
        [
         "30",
         "00155f0530cc7b2bf73cc3f81cb01c52",
         "28.9"
        ],
        [
         "31",
         "0015bc9fd2d5395446143e8b215d7c75",
         "122.99"
        ],
        [
         "32",
         "0015f7887e2fde13ddaa7b8e385af919",
         "167.99"
        ],
        [
         "33",
         "0017a0b4c1f1bdb9c395fa0ac517109c",
         "34.9"
        ],
        [
         "34",
         "0018c09f333634ca9c80d9ff46e43e9c",
         "42.99"
        ],
        [
         "35",
         "0018f7fde63ca77254dbc47f4ea358b2",
         "37.9"
        ],
        [
         "36",
         "0019c9aaad15b043c48f0a1180f22ce8",
         "99.99"
        ],
        [
         "37",
         "001a57041f56400917a187dd74e6cbc1",
         "45.0"
        ],
        [
         "38",
         "001b4e9b73aa98a6276b241bfd496822",
         "75.0"
        ],
        [
         "39",
         "001c7f05398c45b42eee0d5a77783bca",
         "13.65"
        ],
        [
         "40",
         "001df1ee5c36767aa607001ab1a13a06",
         "29.99"
        ],
        [
         "41",
         "001f150aebb5d897f2059b0460c38449",
         "110.32"
        ],
        [
         "42",
         "001f35d9f262c558fd065346fbf5801d",
         "28.9"
        ],
        [
         "43",
         "001f6f1a5e902ad14e1f709a7215de11",
         "23.9"
        ],
        [
         "44",
         "00205ad9ba1ef4340cef86583294cf82",
         "899.9"
        ],
        [
         "45",
         "002236c4f333bc8df6a5939749eb7869",
         "59.9"
        ],
        [
         "46",
         "002348c1099e3229276c8ad7d4ddc702",
         "234.9"
        ],
        [
         "47",
         "002408f390f729598bbac1ef9421c6ae",
         "195.9"
        ],
        [
         "48",
         "002450e9ea44cb90b8a07ba0b197e149",
         "24.9"
        ],
        [
         "49",
         "002554bdf9eb99618d8189c3a89fdd52",
         "229.0"
        ]
       ],
       "shape": {
        "columns": 2,
        "rows": 98666
       }
      },
      "text/html": [
       "<div>\n",
       "<style scoped>\n",
       "    .dataframe tbody tr th:only-of-type {\n",
       "        vertical-align: middle;\n",
       "    }\n",
       "\n",
       "    .dataframe tbody tr th {\n",
       "        vertical-align: top;\n",
       "    }\n",
       "\n",
       "    .dataframe thead th {\n",
       "        text-align: right;\n",
       "    }\n",
       "</style>\n",
       "<table border=\"1\" class=\"dataframe\">\n",
       "  <thead>\n",
       "    <tr style=\"text-align: right;\">\n",
       "      <th></th>\n",
       "      <th>customer_id</th>\n",
       "      <th>media_valor_ticket_por_venta</th>\n",
       "    </tr>\n",
       "  </thead>\n",
       "  <tbody>\n",
       "    <tr>\n",
       "      <th>0</th>\n",
       "      <td>00012a2ce6f8dcda20d059ce98491703</td>\n",
       "      <td>89.80</td>\n",
       "    </tr>\n",
       "    <tr>\n",
       "      <th>1</th>\n",
       "      <td>000161a058600d5901f007fab4c27140</td>\n",
       "      <td>54.90</td>\n",
       "    </tr>\n",
       "    <tr>\n",
       "      <th>2</th>\n",
       "      <td>0001fd6190edaaf884bcaf3d49edf079</td>\n",
       "      <td>179.99</td>\n",
       "    </tr>\n",
       "    <tr>\n",
       "      <th>3</th>\n",
       "      <td>0002414f95344307404f0ace7a26f1d5</td>\n",
       "      <td>149.90</td>\n",
       "    </tr>\n",
       "    <tr>\n",
       "      <th>4</th>\n",
       "      <td>000379cdec625522490c315e70c7a9fb</td>\n",
       "      <td>93.00</td>\n",
       "    </tr>\n",
       "    <tr>\n",
       "      <th>...</th>\n",
       "      <td>...</td>\n",
       "      <td>...</td>\n",
       "    </tr>\n",
       "    <tr>\n",
       "      <th>98661</th>\n",
       "      <td>fffcb937e9dd47a13f05ecb8290f4d3e</td>\n",
       "      <td>78.00</td>\n",
       "    </tr>\n",
       "    <tr>\n",
       "      <th>98662</th>\n",
       "      <td>fffecc9f79fd8c764f843e9951b11341</td>\n",
       "      <td>54.90</td>\n",
       "    </tr>\n",
       "    <tr>\n",
       "      <th>98663</th>\n",
       "      <td>fffeda5b6d849fbd39689bb92087f431</td>\n",
       "      <td>47.90</td>\n",
       "    </tr>\n",
       "    <tr>\n",
       "      <th>98664</th>\n",
       "      <td>ffff42319e9b2d713724ae527742af25</td>\n",
       "      <td>199.90</td>\n",
       "    </tr>\n",
       "    <tr>\n",
       "      <th>98665</th>\n",
       "      <td>ffffa3172527f765de70084a7e53aae8</td>\n",
       "      <td>21.80</td>\n",
       "    </tr>\n",
       "  </tbody>\n",
       "</table>\n",
       "<p>98666 rows × 2 columns</p>\n",
       "</div>"
      ],
      "text/plain": [
       "                            customer_id  media_valor_ticket_por_venta\n",
       "0      00012a2ce6f8dcda20d059ce98491703                         89.80\n",
       "1      000161a058600d5901f007fab4c27140                         54.90\n",
       "2      0001fd6190edaaf884bcaf3d49edf079                        179.99\n",
       "3      0002414f95344307404f0ace7a26f1d5                        149.90\n",
       "4      000379cdec625522490c315e70c7a9fb                         93.00\n",
       "...                                 ...                           ...\n",
       "98661  fffcb937e9dd47a13f05ecb8290f4d3e                         78.00\n",
       "98662  fffecc9f79fd8c764f843e9951b11341                         54.90\n",
       "98663  fffeda5b6d849fbd39689bb92087f431                         47.90\n",
       "98664  ffff42319e9b2d713724ae527742af25                        199.90\n",
       "98665  ffffa3172527f765de70084a7e53aae8                         21.80\n",
       "\n",
       "[98666 rows x 2 columns]"
      ]
     },
     "execution_count": 286,
     "metadata": {},
     "output_type": "execute_result"
    }
   ],
   "source": [
    "\n",
    "#Voy a cambiar el nombre de la columna para que me quede claro qué es\n",
    "media_ticket_por_venta.columns = [\"customer_id\", \"media_valor_ticket_por_venta\"]\n",
    "media_ticket_por_venta"
   ]
  },
  {
   "cell_type": "code",
   "execution_count": 287,
   "metadata": {},
   "outputs": [],
   "source": [
    "media_ticket_por_venta.to_pickle(\"media_ticket_medio_data.pkl\")\n",
    "#formato Pickle, que es el formato nativo de Python para almacenar objetos.\n",
    "#Hago esto para llevármelo al notebook de confirmación de hipótesis"
   ]
  },
  {
   "cell_type": "code",
   "execution_count": 288,
   "metadata": {},
   "outputs": [],
   "source": [
    "data_churn = pd.read_pickle(\"ultima_compra.pkl\")\n",
    "#data_churn"
   ]
  },
  {
   "cell_type": "markdown",
   "metadata": {},
   "source": [
    "UNIFICACIÓN DE TODA LA INFO EN UN SOLO DATASET"
   ]
  },
  {
   "cell_type": "code",
   "execution_count": 289,
   "metadata": {},
   "outputs": [],
   "source": [
    "toda_la_data = data_churn.merge(media_review, on='customer_id') \\\n",
    "                  .merge(media_envios, on='customer_id') \\\n",
    "                  .merge(media_ticket_por_venta, on='customer_id') "
   ]
  },
  {
   "cell_type": "code",
   "execution_count": 290,
   "metadata": {},
   "outputs": [
    {
     "data": {
      "application/vnd.microsoft.datawrangler.viewer.v0+json": {
       "columns": [
        {
         "name": "index",
         "rawType": "int64",
         "type": "integer"
        },
        {
         "name": "customer_id",
         "rawType": "object",
         "type": "string"
        },
        {
         "name": "order_purchase_timestamp",
         "rawType": "datetime64[ns]",
         "type": "datetime"
        },
        {
         "name": "dias_desde_ultima_compra",
         "rawType": "int64",
         "type": "integer"
        },
        {
         "name": "churn",
         "rawType": "int64",
         "type": "integer"
        },
        {
         "name": "review_score",
         "rawType": "float64",
         "type": "float"
        },
        {
         "name": "tiempo_envio",
         "rawType": "float64",
         "type": "float"
        },
        {
         "name": "media_valor_ticket_por_venta",
         "rawType": "float64",
         "type": "float"
        }
       ],
       "conversionMethod": "pd.DataFrame",
       "ref": "a5afe198-5a44-406c-80a9-8fe0018b17bc",
       "rows": [
        [
         "0",
         "00012a2ce6f8dcda20d059ce98491703",
         "2017-11-14 16:08:26",
         "336",
         "1",
         "1.0",
         "13.0",
         "89.8"
        ]
       ],
       "shape": {
        "columns": 7,
        "rows": 1
       }
      },
      "text/html": [
       "<div>\n",
       "<style scoped>\n",
       "    .dataframe tbody tr th:only-of-type {\n",
       "        vertical-align: middle;\n",
       "    }\n",
       "\n",
       "    .dataframe tbody tr th {\n",
       "        vertical-align: top;\n",
       "    }\n",
       "\n",
       "    .dataframe thead th {\n",
       "        text-align: right;\n",
       "    }\n",
       "</style>\n",
       "<table border=\"1\" class=\"dataframe\">\n",
       "  <thead>\n",
       "    <tr style=\"text-align: right;\">\n",
       "      <th></th>\n",
       "      <th>customer_id</th>\n",
       "      <th>order_purchase_timestamp</th>\n",
       "      <th>dias_desde_ultima_compra</th>\n",
       "      <th>churn</th>\n",
       "      <th>review_score</th>\n",
       "      <th>tiempo_envio</th>\n",
       "      <th>media_valor_ticket_por_venta</th>\n",
       "    </tr>\n",
       "  </thead>\n",
       "  <tbody>\n",
       "    <tr>\n",
       "      <th>0</th>\n",
       "      <td>00012a2ce6f8dcda20d059ce98491703</td>\n",
       "      <td>2017-11-14 16:08:26</td>\n",
       "      <td>336</td>\n",
       "      <td>1</td>\n",
       "      <td>1.0</td>\n",
       "      <td>13.0</td>\n",
       "      <td>89.8</td>\n",
       "    </tr>\n",
       "  </tbody>\n",
       "</table>\n",
       "</div>"
      ],
      "text/plain": [
       "                        customer_id order_purchase_timestamp  \\\n",
       "0  00012a2ce6f8dcda20d059ce98491703      2017-11-14 16:08:26   \n",
       "\n",
       "   dias_desde_ultima_compra  churn  review_score  tiempo_envio  \\\n",
       "0                       336      1           1.0          13.0   \n",
       "\n",
       "   media_valor_ticket_por_venta  \n",
       "0                          89.8  "
      ]
     },
     "execution_count": 290,
     "metadata": {},
     "output_type": "execute_result"
    }
   ],
   "source": [
    "toda_la_data.head(1)"
   ]
  },
  {
   "cell_type": "code",
   "execution_count": 291,
   "metadata": {},
   "outputs": [
    {
     "data": {
      "application/vnd.microsoft.datawrangler.viewer.v0+json": {
       "columns": [
        {
         "name": "index",
         "rawType": "int64",
         "type": "integer"
        },
        {
         "name": "customer_id",
         "rawType": "object",
         "type": "string"
        },
        {
         "name": "order_purchase_timestamp_x",
         "rawType": "datetime64[ns]",
         "type": "datetime"
        },
        {
         "name": "dias_desde_ultima_compra",
         "rawType": "int64",
         "type": "integer"
        },
        {
         "name": "churn",
         "rawType": "int64",
         "type": "integer"
        },
        {
         "name": "review_score",
         "rawType": "float64",
         "type": "float"
        },
        {
         "name": "tiempo_envio_x",
         "rawType": "float64",
         "type": "float"
        },
        {
         "name": "media_valor_ticket_por_venta",
         "rawType": "float64",
         "type": "float"
        },
        {
         "name": "order_id",
         "rawType": "object",
         "type": "string"
        },
        {
         "name": "order_status",
         "rawType": "object",
         "type": "string"
        },
        {
         "name": "order_purchase_timestamp_y",
         "rawType": "datetime64[ns]",
         "type": "datetime"
        },
        {
         "name": "order_approved_at",
         "rawType": "object",
         "type": "unknown"
        },
        {
         "name": "order_delivered_carrier_date",
         "rawType": "object",
         "type": "unknown"
        },
        {
         "name": "order_delivered_customer_date",
         "rawType": "datetime64[ns]",
         "type": "datetime"
        },
        {
         "name": "order_estimated_delivery_date",
         "rawType": "datetime64[ns]",
         "type": "datetime"
        },
        {
         "name": "tiempo_envio_y",
         "rawType": "float64",
         "type": "float"
        }
       ],
       "conversionMethod": "pd.DataFrame",
       "ref": "5a550dff-7cff-4238-accf-5584b1cc8e18",
       "rows": [
        [
         "0",
         "00012a2ce6f8dcda20d059ce98491703",
         "2017-11-14 16:08:26",
         "336",
         "1",
         "1.0",
         "13.0",
         "89.8",
         "5f79b5b0931d63f1a42989eb65b9da6e",
         "delivered",
         "2017-11-14 16:08:26",
         "2017-11-14 16:35:32",
         "2017-11-17 15:32:08",
         "2017-11-28 15:41:30",
         "2017-12-04 00:00:00",
         "13.0"
        ],
        [
         "1",
         "000161a058600d5901f007fab4c27140",
         "2017-07-16 09:40:32",
         "457",
         "1",
         "4.0",
         "9.0",
         "54.9",
         "a44895d095d7e0702b6a162fa2dbeced",
         "delivered",
         "2017-07-16 09:40:32",
         "2017-07-16 09:55:12",
         "2017-07-19 19:09:37",
         "2017-07-25 18:57:33",
         "2017-08-04 00:00:00",
         "9.0"
        ],
        [
         "2",
         "0001fd6190edaaf884bcaf3d49edf079",
         "2017-02-28 11:06:43",
         "595",
         "1",
         "5.0",
         "5.0",
         "179.99",
         "316a104623542e4d75189bb372bc5f8d",
         "delivered",
         "2017-02-28 11:06:43",
         "2017-02-28 11:15:20",
         "2017-03-01 15:24:20",
         "2017-03-06 08:57:49",
         "2017-03-22 00:00:00",
         "5.0"
        ],
        [
         "3",
         "0002414f95344307404f0ace7a26f1d5",
         "2017-08-16 13:09:20",
         "426",
         "1",
         "5.0",
         "28.0",
         "149.9",
         "5825ce2e88d5346438686b0bba99e5ee",
         "delivered",
         "2017-08-16 13:09:20",
         "2017-08-17 03:10:27",
         "2017-08-19 11:34:29",
         "2017-09-13 20:06:02",
         "2017-09-14 00:00:00",
         "28.0"
        ],
        [
         "4",
         "000379cdec625522490c315e70c7a9fb",
         "2018-04-02 13:42:17",
         "197",
         "1",
         "4.0",
         "11.0",
         "93.0",
         "0ab7fb08086d4af9141453c91878ed7a",
         "delivered",
         "2018-04-02 13:42:17",
         "2018-04-04 03:10:19",
         "2018-04-04 18:11:09",
         "2018-04-13 20:21:08",
         "2018-04-18 00:00:00",
         "11.0"
        ],
        [
         "5",
         "0004164d20a9e969af783496f3408652",
         "2017-04-12 08:35:12",
         "552",
         "1",
         "1.0",
         "8.0",
         "59.99",
         "cd3558a10d854487b4f907e9b326a4fc",
         "delivered",
         "2017-04-12 08:35:12",
         "2017-04-12 08:50:12",
         "2017-04-12 17:05:42",
         "2017-04-20 16:12:26",
         "2017-05-04 00:00:00",
         "8.0"
        ],
        [
         "6",
         "000419c5494106c306a97b5635748086",
         "2018-03-02 17:47:40",
         "228",
         "1",
         "1.0",
         "45.0",
         "34.3",
         "07f6c3baf9ac86865b60f640c4f923c6",
         "delivered",
         "2018-03-02 17:47:40",
         "2018-03-03 14:10:38",
         "2018-03-07 21:07:51",
         "2018-04-17 17:17:34",
         "2018-03-22 00:00:00",
         "45.0"
        ],
        [
         "7",
         "00046a560d407e99b969756e0b10f282",
         "2017-12-18 11:08:30",
         "302",
         "1",
         "5.0",
         "8.0",
         "120.9",
         "8c3d752c5c02227878fae49aeaddbfd7",
         "delivered",
         "2017-12-18 11:08:30",
         "2017-12-18 12:45:31",
         "2017-12-18 20:55:54",
         "2017-12-26 20:58:33",
         "2018-01-12 00:00:00",
         "8.0"
        ],
        [
         "8",
         "00050bf6e01e69d5c0fd612f1bcfb69c",
         "2017-09-17 16:04:44",
         "394",
         "1",
         "5.0",
         "15.0",
         "69.99",
         "fa906f338cee30a984d0945b3832e431",
         "delivered",
         "2017-09-17 16:04:44",
         "2017-09-17 16:15:13",
         "2017-09-18 21:02:46",
         "2017-10-02 21:14:31",
         "2017-10-13 00:00:00",
         "15.0"
        ],
        [
         "9",
         "000598caf2ef4117407665ac33275130",
         "2018-08-11 12:14:35",
         "66",
         "0",
         "5.0",
         "9.0",
         "1107.0",
         "9b961b894e797f63622137ff7eb1c1af",
         "delivered",
         "2018-08-11 12:14:35",
         "2018-08-11 12:25:08",
         "2018-08-13 14:41:00",
         "2018-08-20 18:18:41",
         "2018-09-06 00:00:00",
         "9.0"
        ],
        [
         "10",
         "0005aefbb696d34b3424dccd0a0e9fd0",
         "2018-06-20 09:46:53",
         "118",
         "0",
         "4.0",
         "2.0",
         "134.9",
         "263ba12390d0fbce329dd16da8cd20f8",
         "delivered",
         "2018-06-20 09:46:53",
         "2018-06-20 10:21:32",
         "2018-06-21 15:17:00",
         "2018-06-22 17:58:39",
         "2018-07-03 00:00:00",
         "2.0"
        ],
        [
         "11",
         "00062b33cb9f6fe976afdcff967ea74d",
         "2017-03-15 23:44:09",
         "580",
         "1",
         "3.0",
         "8.0",
         "47.99",
         "c208db5638f7f1cd04d185856852f864",
         "delivered",
         "2017-03-15 23:44:09",
         "2017-03-15 23:44:09",
         "2017-03-17 15:01:29",
         "2017-03-24 14:59:53",
         "2017-04-04 00:00:00",
         "8.0"
        ],
        [
         "12",
         "00066ccbe787a588c52bd5ff404590e3",
         "2018-02-06 16:10:09",
         "252",
         "1",
         "1.0",
         "15.0",
         "199.6",
         "728416b0db65935dbf78a0cc03e8d6f8",
         "delivered",
         "2018-02-06 16:10:09",
         "2018-02-08 07:49:51",
         "2018-02-14 19:58:58",
         "2018-02-21 22:22:17",
         "2018-03-12 00:00:00",
         "15.0"
        ],
        [
         "13",
         "00072d033fe2e59061ae5c3aff1a2be5",
         "2017-09-01 09:24:39",
         "410",
         "1",
         "5.0",
         "13.0",
         "89.9",
         "2346e1104a4b18a23e6dc6a87c2d1b8c",
         "delivered",
         "2017-09-01 09:24:39",
         "2017-09-02 02:50:58",
         "2017-09-05 13:16:55",
         "2017-09-14 18:33:48",
         "2017-09-27 00:00:00",
         "13.0"
        ],
        [
         "14",
         "0009a69b72033b2d0ec8c69fc70ef768",
         "2017-04-28 13:36:30",
         "536",
         "1",
         "4.0",
         "9.0",
         "159.9",
         "048beca6ccda094fb80bbc704d7c493d",
         "delivered",
         "2017-04-28 13:36:30",
         "2017-04-28 13:45:15",
         "2017-04-28 15:08:40",
         "2017-05-08 10:04:13",
         "2017-05-22 00:00:00",
         "9.0"
        ],
        [
         "15",
         "000bf8121c3412d3057d32371c5d3395",
         "2017-10-11 07:44:31",
         "370",
         "1",
         "5.0",
         "5.0",
         "30.0",
         "bc3e295306ee4d3eba91aca49b0bb539",
         "delivered",
         "2017-10-11 07:44:31",
         "2017-10-11 07:56:17",
         "2017-10-13 15:16:26",
         "2017-10-16 19:35:33",
         "2017-10-24 00:00:00",
         "5.0"
        ],
        [
         "16",
         "000e943451fc2788ca6ac98a682f2f49",
         "2017-04-20 19:37:14",
         "544",
         "1",
         "4.0",
         "18.0",
         "89.9",
         "cfde948cbe426f37ac61e0f04215a5f3",
         "delivered",
         "2017-04-20 19:37:14",
         "2017-04-22 10:15:17",
         "2017-04-25 08:23:14",
         "2017-05-09 11:50:02",
         "2017-05-17 00:00:00",
         "18.0"
        ],
        [
         "17",
         "000f17e290c26b28549908a04cfe36c1",
         "2017-11-10 16:37:05",
         "340",
         "1",
         "5.0",
         "20.0",
         "122.9",
         "cabfe1219e952ead9a914adde40efc42",
         "delivered",
         "2017-11-10 16:37:05",
         "2017-11-11 02:46:34",
         "2017-11-14 16:39:07",
         "2017-11-30 18:02:33",
         "2017-12-08 00:00:00",
         "20.0"
        ],
        [
         "18",
         "000fd45d6fedae68fc6676036610f879",
         "2018-04-15 15:55:01",
         "184",
         "1",
         "4.0",
         "15.0",
         "53.99",
         "574fb93317faefb9a2dc2e9facef54bd",
         "delivered",
         "2018-04-15 15:55:01",
         "2018-04-17 05:55:38",
         "2018-04-23 23:44:37",
         "2018-04-30 20:31:39",
         "2018-05-08 00:00:00",
         "15.0"
        ],
        [
         "19",
         "0010068a73b7c56da5758c3f9e5c7375",
         "2017-04-11 18:19:55",
         "553",
         "1",
         "5.0",
         "23.0",
         "29.99",
         "fa9f5a4655d840e1de98632fa80c98f4",
         "delivered",
         "2017-04-11 18:19:55",
         "2017-04-12 02:42:19",
         "2017-04-13 09:06:54",
         "2017-05-05 14:28:06",
         "2017-05-17 00:00:00",
         "23.0"
        ],
        [
         "20",
         "001028b78fd413e19704b3867c369d3a",
         "2018-04-12 12:51:28",
         "187",
         "1",
         "5.0",
         "4.0",
         "29.9",
         "cd16e890b276ec7a7e2e93ba379339e1",
         "delivered",
         "2018-04-12 12:51:28",
         "2018-04-13 12:50:28",
         "2018-04-13 22:05:03",
         "2018-04-16 19:16:36",
         "2018-04-30 00:00:00",
         "4.0"
        ],
        [
         "21",
         "00104a47c29da701ce41ee52077587d9",
         "2018-01-14 20:28:56",
         "275",
         "1",
         "4.0",
         "4.0",
         "83.99",
         "9974509c32cb0fbfa567244ba1c29a64",
         "delivered",
         "2018-01-14 20:28:56",
         "2018-01-14 20:38:23",
         "2018-01-16 16:13:29",
         "2018-01-19 13:34:43",
         "2018-02-09 00:00:00",
         "4.0"
        ],
        [
         "22",
         "001051abfcfdbed9f87b4266213a5df1",
         "2018-05-30 09:19:31",
         "139",
         "0",
         "4.0",
         "5.0",
         "49.97",
         "2927b6be262c5528b8135e5d330c00f9",
         "delivered",
         "2018-05-30 09:19:31",
         "2018-05-30 09:34:59",
         "2018-05-30 14:10:00",
         "2018-06-04 19:08:54",
         "2018-07-04 00:00:00",
         "5.0"
        ],
        [
         "23",
         "00114026c1b7b52ab1773f317ef4880b",
         "2017-06-01 19:44:44",
         "502",
         "1",
         "5.0",
         "10.0",
         "49.9",
         "17a9050c446ea78f7108b7a5515aa438",
         "delivered",
         "2017-06-01 19:44:44",
         "2017-06-01 19:55:15",
         "2017-06-02 13:55:54",
         "2017-06-12 15:43:57",
         "2017-06-27 00:00:00",
         "10.0"
        ],
        [
         "24",
         "001226b2341ef620415ce7bbafcfac28",
         "2017-09-29 01:15:08",
         "382",
         "1",
         "3.0",
         "10.0",
         "29.9",
         "8f90bd287474f07e918f11e649848539",
         "delivered",
         "2017-09-29 01:15:08",
         "2017-09-30 02:28:45",
         "2017-10-02 14:46:52",
         "2017-10-09 21:22:38",
         "2017-10-30 00:00:00",
         "10.0"
        ],
        [
         "25",
         "0012a5c13793cf51e253f096a7e740dd",
         "2018-03-05 14:54:23",
         "225",
         "1",
         "5.0",
         "35.0",
         "349.9",
         "4d6f99dd1c15b51cdaf72f7b14223d26",
         "delivered",
         "2018-03-05 14:54:23",
         "2018-03-05 15:10:29",
         "2018-03-12 11:33:01",
         "2018-04-09 17:41:50",
         "2018-04-17 00:00:00",
         "35.0"
        ],
        [
         "26",
         "0013280441d86a4f7a8006efdaf1b0fe",
         "2018-01-08 02:35:36",
         "281",
         "1",
         "5.0",
         "2.0",
         "149.9",
         "e4606fed871d036cbc9acbbd4e3282f1",
         "delivered",
         "2018-01-08 02:35:36",
         "2018-01-08 02:47:54",
         "2018-01-09 15:44:22",
         "2018-01-10 18:20:12",
         "2018-01-24 00:00:00",
         "2.0"
        ],
        [
         "27",
         "0013cd8e350a7cc76873441e431dd5ee",
         "2018-05-07 23:25:09",
         "162",
         "0",
         "5.0",
         "4.0",
         "79.9",
         "4ed7a5d31f58c9c3b20a61e3927db6d9",
         "delivered",
         "2018-05-07 23:25:09",
         "2018-05-08 21:11:37",
         "2018-05-09 15:21:00",
         "2018-05-12 15:44:57",
         "2018-05-25 00:00:00",
         "4.0"
        ],
        [
         "28",
         "001450ebb4a77efb3d68be5f7887cb1e",
         "2018-02-26 08:35:13",
         "232",
         "1",
         "2.0",
         "15.0",
         "37.64",
         "41a75aec932b24ba50e98ba8b50b625d",
         "delivered",
         "2018-02-26 08:35:13",
         "2018-02-27 08:30:28",
         "2018-03-05 14:19:44",
         "2018-03-13 18:22:54",
         "2018-03-19 00:00:00",
         "15.0"
        ],
        [
         "29",
         "00146ad30454993879adaa91c518f68c",
         "2018-01-08 20:40:57",
         "281",
         "1",
         "3.0",
         "8.0",
         "199.9",
         "b60b122b336eaee3323565272f117bec",
         "delivered",
         "2018-01-08 20:40:57",
         "2018-01-08 20:48:33",
         "2018-01-09 23:39:15",
         "2018-01-16 22:33:07",
         "2018-02-01 00:00:00",
         "8.0"
        ],
        [
         "30",
         "00155f0530cc7b2bf73cc3f81cb01c52",
         "2017-05-14 23:55:13",
         "520",
         "1",
         "5.0",
         "14.0",
         "28.9",
         "9bd75a47121bac1956e6b353776128b1",
         "delivered",
         "2017-05-14 23:55:13",
         "2017-05-15 00:46:01",
         "2017-05-19 09:55:44",
         "2017-05-29 10:48:45",
         "2017-06-14 00:00:00",
         "14.0"
        ],
        [
         "31",
         "0015bc9fd2d5395446143e8b215d7c75",
         "2018-06-11 19:48:34",
         "127",
         "0",
         "5.0",
         "2.0",
         "122.99",
         "40e61df3e13139ca0731f9f2d68732b5",
         "delivered",
         "2018-06-11 19:48:34",
         "2018-06-11 20:22:45",
         "2018-06-12 16:36:00",
         "2018-06-14 10:18:20",
         "2018-06-26 00:00:00",
         "2.0"
        ],
        [
         "32",
         "0015f7887e2fde13ddaa7b8e385af919",
         "2017-07-31 11:05:46",
         "442",
         "1",
         "3.0",
         "8.0",
         "167.99",
         "cee9b5953fbfa530733f94ddce959a15",
         "delivered",
         "2017-07-31 11:05:46",
         "2017-07-31 11:24:56",
         "2017-08-01 18:56:51",
         "2017-08-08 20:53:03",
         "2017-08-24 00:00:00",
         "8.0"
        ],
        [
         "33",
         "0017a0b4c1f1bdb9c395fa0ac517109c",
         "2018-03-03 18:44:01",
         "227",
         "1",
         "4.0",
         "20.0",
         "34.9",
         "5c11e238c0563cab5491de26eb68f99a",
         "delivered",
         "2018-03-03 18:44:01",
         "2018-03-03 18:55:27",
         "2018-03-05 19:25:05",
         "2018-03-23 22:18:56",
         "2018-03-22 00:00:00",
         "20.0"
        ],
        [
         "34",
         "0018c09f333634ca9c80d9ff46e43e9c",
         "2018-07-01 18:07:57",
         "107",
         "0",
         "5.0",
         "5.0",
         "42.99",
         "0dbcaa88e213607d3795e96eda505c73",
         "delivered",
         "2018-07-01 18:07:57",
         "2018-07-01 18:30:25",
         "2018-07-03 14:55:00",
         "2018-07-07 15:47:40",
         "2018-07-20 00:00:00",
         "5.0"
        ],
        [
         "35",
         "0018f7fde63ca77254dbc47f4ea358b2",
         "2017-09-26 14:01:47",
         "385",
         "1",
         "5.0",
         "7.0",
         "37.9",
         "7ad292313f72d59700c72169ba543021",
         "delivered",
         "2017-09-26 14:01:47",
         "2017-09-26 14:14:19",
         "2017-09-26 20:03:18",
         "2017-10-03 21:58:55",
         "2017-10-23 00:00:00",
         "7.0"
        ],
        [
         "36",
         "0019c9aaad15b043c48f0a1180f22ce8",
         "2018-03-06 00:26:58",
         "224",
         "1",
         "4.0",
         "2.0",
         "99.99",
         "3cf2ae4128b7627b6d9dacd45887cba7",
         "delivered",
         "2018-03-06 00:26:58",
         "2018-03-06 01:30:25",
         "2018-03-06 18:37:48",
         "2018-03-08 22:52:41",
         "2018-03-16 00:00:00",
         "2.0"
        ],
        [
         "37",
         "001a57041f56400917a187dd74e6cbc1",
         "2018-01-17 21:22:51",
         "272",
         "1",
         "5.0",
         "2.0",
         "45.0",
         "f22420a030f491fdcaabbc5573a9ff39",
         "delivered",
         "2018-01-17 21:22:51",
         "2018-01-18 21:16:24",
         "2018-01-19 21:58:38",
         "2018-01-20 12:07:32",
         "2018-02-01 00:00:00",
         "2.0"
        ],
        [
         "38",
         "001b4e9b73aa98a6276b241bfd496822",
         "2018-04-07 02:12:51",
         "192",
         "1",
         "4.0",
         "13.0",
         "75.0",
         "63d8235747e25f4b65895e91ff64d778",
         "delivered",
         "2018-04-07 02:12:51",
         "2018-04-07 02:27:24",
         "2018-04-09 20:12:48",
         "2018-04-20 21:04:28",
         "2018-04-30 00:00:00",
         "13.0"
        ],
        [
         "39",
         "001c7f05398c45b42eee0d5a77783bca",
         "2018-04-12 13:41:07",
         "187",
         "1",
         "5.0",
         "6.0",
         "13.65",
         "ee8dd407e306b0808fd6fddc17ea6f78",
         "delivered",
         "2018-04-12 13:41:07",
         "2018-04-14 02:30:34",
         "2018-04-16 20:22:11",
         "2018-04-18 20:03:10",
         "2018-04-30 00:00:00",
         "6.0"
        ],
        [
         "40",
         "001df1ee5c36767aa607001ab1a13a06",
         "2018-08-05 23:14:45",
         "72",
         "0",
         "4.0",
         "4.0",
         "29.99",
         "378d1ac3d8e22dd46990757398ae8500",
         "delivered",
         "2018-08-05 23:14:45",
         "2018-08-05 23:30:13",
         "2018-08-07 11:21:00",
         "2018-08-10 18:52:44",
         "2018-08-10 00:00:00",
         "4.0"
        ],
        [
         "41",
         "001f150aebb5d897f2059b0460c38449",
         "2018-05-09 12:06:04",
         "160",
         "0",
         "4.0",
         "8.0",
         "110.32",
         "9f1e6ff8c7baef38bcdfa9b804b4c552",
         "delivered",
         "2018-05-09 12:06:04",
         "2018-05-09 12:31:06",
         "2018-05-10 14:28:00",
         "2018-05-17 17:14:22",
         "2018-05-28 00:00:00",
         "8.0"
        ],
        [
         "42",
         "001f35d9f262c558fd065346fbf5801d",
         "2018-01-25 17:33:55",
         "264",
         "1",
         "4.0",
         "26.0",
         "28.9",
         "93dbea6be0ad39924a14fe9360679560",
         "delivered",
         "2018-01-25 17:33:55",
         "2018-01-26 17:39:23",
         "2018-01-29 19:29:31",
         "2018-02-21 01:23:27",
         "2018-02-22 00:00:00",
         "26.0"
        ],
        [
         "43",
         "001f6f1a5e902ad14e1f709a7215de11",
         "2017-02-07 20:32:13",
         "616",
         "1",
         "5.0",
         "8.0",
         "23.9",
         "f1c678e4d14a34ff56f675634bce6b15",
         "delivered",
         "2017-02-07 20:32:13",
         "2017-02-07 20:45:16",
         "2017-02-10 14:04:03",
         "2017-02-16 10:45:58",
         "2017-03-06 00:00:00",
         "8.0"
        ],
        [
         "44",
         "00205ad9ba1ef4340cef86583294cf82",
         "2018-05-12 17:51:47",
         "157",
         "0",
         "5.0",
         "29.0",
         "899.9",
         "0d8e03520c1b877edaf5ef24f7abb5cb",
         "delivered",
         "2018-05-12 17:51:47",
         "2018-05-13 12:15:10",
         "2018-05-18 15:17:00",
         "2018-06-11 14:03:50",
         "2018-06-26 00:00:00",
         "29.0"
        ],
        [
         "45",
         "002236c4f333bc8df6a5939749eb7869",
         "2018-01-22 20:16:33",
         "267",
         "1",
         "5.0",
         "4.0",
         "59.9",
         "5476692f5bd7809bea1c3e1b737f9246",
         "delivered",
         "2018-01-22 20:16:33",
         "2018-01-23 20:12:56",
         "2018-01-25 18:04:45",
         "2018-01-26 22:18:31",
         "2018-02-06 00:00:00",
         "4.0"
        ],
        [
         "46",
         "002348c1099e3229276c8ad7d4ddc702",
         "2018-01-10 12:28:22",
         "279",
         "1",
         "1.0",
         null,
         "234.9",
         "79ec7fcffa4121dbb55b945aee306e12",
         "processing",
         "2018-01-10 12:28:22",
         "2018-01-11 03:09:22",
         null,
         null,
         "2018-02-02 00:00:00",
         null
        ],
        [
         "47",
         "002408f390f729598bbac1ef9421c6ae",
         "2018-01-10 17:01:34",
         "279",
         "1",
         "5.0",
         "21.0",
         "195.9",
         "6bf735a4c4886608f57fda916dfa6225",
         "delivered",
         "2018-01-10 17:01:34",
         "2018-01-10 17:13:25",
         "2018-01-13 02:22:09",
         "2018-01-31 19:06:43",
         "2018-02-07 00:00:00",
         "21.0"
        ],
        [
         "48",
         "002450e9ea44cb90b8a07ba0b197e149",
         "2017-08-16 09:07:13",
         "426",
         "1",
         "4.0",
         "8.0",
         "24.9",
         "cf4eb4d5203f0c0d14f191c15de0743e",
         "delivered",
         "2017-08-16 09:07:13",
         "2017-08-18 02:45:49",
         "2017-08-18 14:13:06",
         "2017-08-24 16:31:56",
         "2017-09-08 00:00:00",
         "8.0"
        ],
        [
         "49",
         "002554bdf9eb99618d8189c3a89fdd52",
         "2018-08-13 17:59:25",
         "64",
         "0",
         "5.0",
         "3.0",
         "229.0",
         "c524e7bd2510f74fed9e94b894472306",
         "delivered",
         "2018-08-13 17:59:25",
         "2018-08-13 18:15:09",
         "2018-08-14 12:57:00",
         "2018-08-16 18:28:51",
         "2018-08-23 00:00:00",
         "3.0"
        ]
       ],
       "shape": {
        "columns": 15,
        "rows": 97917
       }
      },
      "text/html": [
       "<div>\n",
       "<style scoped>\n",
       "    .dataframe tbody tr th:only-of-type {\n",
       "        vertical-align: middle;\n",
       "    }\n",
       "\n",
       "    .dataframe tbody tr th {\n",
       "        vertical-align: top;\n",
       "    }\n",
       "\n",
       "    .dataframe thead th {\n",
       "        text-align: right;\n",
       "    }\n",
       "</style>\n",
       "<table border=\"1\" class=\"dataframe\">\n",
       "  <thead>\n",
       "    <tr style=\"text-align: right;\">\n",
       "      <th></th>\n",
       "      <th>customer_id</th>\n",
       "      <th>order_purchase_timestamp_x</th>\n",
       "      <th>dias_desde_ultima_compra</th>\n",
       "      <th>churn</th>\n",
       "      <th>review_score</th>\n",
       "      <th>tiempo_envio_x</th>\n",
       "      <th>media_valor_ticket_por_venta</th>\n",
       "      <th>order_id</th>\n",
       "      <th>order_status</th>\n",
       "      <th>order_purchase_timestamp_y</th>\n",
       "      <th>order_approved_at</th>\n",
       "      <th>order_delivered_carrier_date</th>\n",
       "      <th>order_delivered_customer_date</th>\n",
       "      <th>order_estimated_delivery_date</th>\n",
       "      <th>tiempo_envio_y</th>\n",
       "    </tr>\n",
       "  </thead>\n",
       "  <tbody>\n",
       "    <tr>\n",
       "      <th>0</th>\n",
       "      <td>00012a2ce6f8dcda20d059ce98491703</td>\n",
       "      <td>2017-11-14 16:08:26</td>\n",
       "      <td>336</td>\n",
       "      <td>1</td>\n",
       "      <td>1.0</td>\n",
       "      <td>13.0</td>\n",
       "      <td>89.80</td>\n",
       "      <td>5f79b5b0931d63f1a42989eb65b9da6e</td>\n",
       "      <td>delivered</td>\n",
       "      <td>2017-11-14 16:08:26</td>\n",
       "      <td>2017-11-14 16:35:32</td>\n",
       "      <td>2017-11-17 15:32:08</td>\n",
       "      <td>2017-11-28 15:41:30</td>\n",
       "      <td>2017-12-04</td>\n",
       "      <td>13.0</td>\n",
       "    </tr>\n",
       "    <tr>\n",
       "      <th>1</th>\n",
       "      <td>000161a058600d5901f007fab4c27140</td>\n",
       "      <td>2017-07-16 09:40:32</td>\n",
       "      <td>457</td>\n",
       "      <td>1</td>\n",
       "      <td>4.0</td>\n",
       "      <td>9.0</td>\n",
       "      <td>54.90</td>\n",
       "      <td>a44895d095d7e0702b6a162fa2dbeced</td>\n",
       "      <td>delivered</td>\n",
       "      <td>2017-07-16 09:40:32</td>\n",
       "      <td>2017-07-16 09:55:12</td>\n",
       "      <td>2017-07-19 19:09:37</td>\n",
       "      <td>2017-07-25 18:57:33</td>\n",
       "      <td>2017-08-04</td>\n",
       "      <td>9.0</td>\n",
       "    </tr>\n",
       "    <tr>\n",
       "      <th>2</th>\n",
       "      <td>0001fd6190edaaf884bcaf3d49edf079</td>\n",
       "      <td>2017-02-28 11:06:43</td>\n",
       "      <td>595</td>\n",
       "      <td>1</td>\n",
       "      <td>5.0</td>\n",
       "      <td>5.0</td>\n",
       "      <td>179.99</td>\n",
       "      <td>316a104623542e4d75189bb372bc5f8d</td>\n",
       "      <td>delivered</td>\n",
       "      <td>2017-02-28 11:06:43</td>\n",
       "      <td>2017-02-28 11:15:20</td>\n",
       "      <td>2017-03-01 15:24:20</td>\n",
       "      <td>2017-03-06 08:57:49</td>\n",
       "      <td>2017-03-22</td>\n",
       "      <td>5.0</td>\n",
       "    </tr>\n",
       "    <tr>\n",
       "      <th>3</th>\n",
       "      <td>0002414f95344307404f0ace7a26f1d5</td>\n",
       "      <td>2017-08-16 13:09:20</td>\n",
       "      <td>426</td>\n",
       "      <td>1</td>\n",
       "      <td>5.0</td>\n",
       "      <td>28.0</td>\n",
       "      <td>149.90</td>\n",
       "      <td>5825ce2e88d5346438686b0bba99e5ee</td>\n",
       "      <td>delivered</td>\n",
       "      <td>2017-08-16 13:09:20</td>\n",
       "      <td>2017-08-17 03:10:27</td>\n",
       "      <td>2017-08-19 11:34:29</td>\n",
       "      <td>2017-09-13 20:06:02</td>\n",
       "      <td>2017-09-14</td>\n",
       "      <td>28.0</td>\n",
       "    </tr>\n",
       "    <tr>\n",
       "      <th>4</th>\n",
       "      <td>000379cdec625522490c315e70c7a9fb</td>\n",
       "      <td>2018-04-02 13:42:17</td>\n",
       "      <td>197</td>\n",
       "      <td>1</td>\n",
       "      <td>4.0</td>\n",
       "      <td>11.0</td>\n",
       "      <td>93.00</td>\n",
       "      <td>0ab7fb08086d4af9141453c91878ed7a</td>\n",
       "      <td>delivered</td>\n",
       "      <td>2018-04-02 13:42:17</td>\n",
       "      <td>2018-04-04 03:10:19</td>\n",
       "      <td>2018-04-04 18:11:09</td>\n",
       "      <td>2018-04-13 20:21:08</td>\n",
       "      <td>2018-04-18</td>\n",
       "      <td>11.0</td>\n",
       "    </tr>\n",
       "    <tr>\n",
       "      <th>...</th>\n",
       "      <td>...</td>\n",
       "      <td>...</td>\n",
       "      <td>...</td>\n",
       "      <td>...</td>\n",
       "      <td>...</td>\n",
       "      <td>...</td>\n",
       "      <td>...</td>\n",
       "      <td>...</td>\n",
       "      <td>...</td>\n",
       "      <td>...</td>\n",
       "      <td>...</td>\n",
       "      <td>...</td>\n",
       "      <td>...</td>\n",
       "      <td>...</td>\n",
       "      <td>...</td>\n",
       "    </tr>\n",
       "    <tr>\n",
       "      <th>97912</th>\n",
       "      <td>fffcb937e9dd47a13f05ecb8290f4d3e</td>\n",
       "      <td>2018-03-17 00:55:27</td>\n",
       "      <td>213</td>\n",
       "      <td>1</td>\n",
       "      <td>5.0</td>\n",
       "      <td>4.0</td>\n",
       "      <td>78.00</td>\n",
       "      <td>620ddc9fbe3e445676a8e71d4a830821</td>\n",
       "      <td>delivered</td>\n",
       "      <td>2018-03-17 00:55:27</td>\n",
       "      <td>2018-03-17 01:35:21</td>\n",
       "      <td>2018-03-17 17:58:48</td>\n",
       "      <td>2018-03-21 19:24:46</td>\n",
       "      <td>2018-04-05</td>\n",
       "      <td>4.0</td>\n",
       "    </tr>\n",
       "    <tr>\n",
       "      <th>97913</th>\n",
       "      <td>fffecc9f79fd8c764f843e9951b11341</td>\n",
       "      <td>2018-03-29 16:59:26</td>\n",
       "      <td>201</td>\n",
       "      <td>1</td>\n",
       "      <td>3.0</td>\n",
       "      <td>12.0</td>\n",
       "      <td>54.90</td>\n",
       "      <td>814d6a3a7c0b32b2ad929ac6328124e9</td>\n",
       "      <td>delivered</td>\n",
       "      <td>2018-03-29 16:59:26</td>\n",
       "      <td>2018-03-29 17:10:27</td>\n",
       "      <td>2018-03-31 14:29:38</td>\n",
       "      <td>2018-04-10 17:20:49</td>\n",
       "      <td>2018-04-27</td>\n",
       "      <td>12.0</td>\n",
       "    </tr>\n",
       "    <tr>\n",
       "      <th>97914</th>\n",
       "      <td>fffeda5b6d849fbd39689bb92087f431</td>\n",
       "      <td>2018-05-22 13:36:02</td>\n",
       "      <td>147</td>\n",
       "      <td>0</td>\n",
       "      <td>4.0</td>\n",
       "      <td>17.0</td>\n",
       "      <td>47.90</td>\n",
       "      <td>8c855550908247a7eff50281b92167a8</td>\n",
       "      <td>delivered</td>\n",
       "      <td>2018-05-22 13:36:02</td>\n",
       "      <td>2018-05-22 13:54:37</td>\n",
       "      <td>2018-05-25 13:25:00</td>\n",
       "      <td>2018-06-08 18:03:31</td>\n",
       "      <td>2018-06-29</td>\n",
       "      <td>17.0</td>\n",
       "    </tr>\n",
       "    <tr>\n",
       "      <th>97915</th>\n",
       "      <td>ffff42319e9b2d713724ae527742af25</td>\n",
       "      <td>2018-06-13 16:57:05</td>\n",
       "      <td>125</td>\n",
       "      <td>0</td>\n",
       "      <td>5.0</td>\n",
       "      <td>5.0</td>\n",
       "      <td>199.90</td>\n",
       "      <td>83b5fc912b2862c5046555ded1483ae9</td>\n",
       "      <td>delivered</td>\n",
       "      <td>2018-06-13 16:57:05</td>\n",
       "      <td>2018-06-13 17:20:23</td>\n",
       "      <td>2018-06-15 18:52:00</td>\n",
       "      <td>2018-06-18 18:33:05</td>\n",
       "      <td>2018-06-25</td>\n",
       "      <td>5.0</td>\n",
       "    </tr>\n",
       "    <tr>\n",
       "      <th>97916</th>\n",
       "      <td>ffffa3172527f765de70084a7e53aae8</td>\n",
       "      <td>2017-09-02 11:53:32</td>\n",
       "      <td>409</td>\n",
       "      <td>1</td>\n",
       "      <td>5.0</td>\n",
       "      <td>12.0</td>\n",
       "      <td>21.80</td>\n",
       "      <td>d0e7be325a1c986babc4e1cdb91edc03</td>\n",
       "      <td>delivered</td>\n",
       "      <td>2017-09-02 11:53:32</td>\n",
       "      <td>2017-09-02 12:05:40</td>\n",
       "      <td>2017-09-08 20:04:11</td>\n",
       "      <td>2017-09-14 19:47:40</td>\n",
       "      <td>2017-09-26</td>\n",
       "      <td>12.0</td>\n",
       "    </tr>\n",
       "  </tbody>\n",
       "</table>\n",
       "<p>97917 rows × 15 columns</p>\n",
       "</div>"
      ],
      "text/plain": [
       "                            customer_id order_purchase_timestamp_x  \\\n",
       "0      00012a2ce6f8dcda20d059ce98491703        2017-11-14 16:08:26   \n",
       "1      000161a058600d5901f007fab4c27140        2017-07-16 09:40:32   \n",
       "2      0001fd6190edaaf884bcaf3d49edf079        2017-02-28 11:06:43   \n",
       "3      0002414f95344307404f0ace7a26f1d5        2017-08-16 13:09:20   \n",
       "4      000379cdec625522490c315e70c7a9fb        2018-04-02 13:42:17   \n",
       "...                                 ...                        ...   \n",
       "97912  fffcb937e9dd47a13f05ecb8290f4d3e        2018-03-17 00:55:27   \n",
       "97913  fffecc9f79fd8c764f843e9951b11341        2018-03-29 16:59:26   \n",
       "97914  fffeda5b6d849fbd39689bb92087f431        2018-05-22 13:36:02   \n",
       "97915  ffff42319e9b2d713724ae527742af25        2018-06-13 16:57:05   \n",
       "97916  ffffa3172527f765de70084a7e53aae8        2017-09-02 11:53:32   \n",
       "\n",
       "       dias_desde_ultima_compra  churn  review_score  tiempo_envio_x  \\\n",
       "0                           336      1           1.0            13.0   \n",
       "1                           457      1           4.0             9.0   \n",
       "2                           595      1           5.0             5.0   \n",
       "3                           426      1           5.0            28.0   \n",
       "4                           197      1           4.0            11.0   \n",
       "...                         ...    ...           ...             ...   \n",
       "97912                       213      1           5.0             4.0   \n",
       "97913                       201      1           3.0            12.0   \n",
       "97914                       147      0           4.0            17.0   \n",
       "97915                       125      0           5.0             5.0   \n",
       "97916                       409      1           5.0            12.0   \n",
       "\n",
       "       media_valor_ticket_por_venta                          order_id  \\\n",
       "0                             89.80  5f79b5b0931d63f1a42989eb65b9da6e   \n",
       "1                             54.90  a44895d095d7e0702b6a162fa2dbeced   \n",
       "2                            179.99  316a104623542e4d75189bb372bc5f8d   \n",
       "3                            149.90  5825ce2e88d5346438686b0bba99e5ee   \n",
       "4                             93.00  0ab7fb08086d4af9141453c91878ed7a   \n",
       "...                             ...                               ...   \n",
       "97912                         78.00  620ddc9fbe3e445676a8e71d4a830821   \n",
       "97913                         54.90  814d6a3a7c0b32b2ad929ac6328124e9   \n",
       "97914                         47.90  8c855550908247a7eff50281b92167a8   \n",
       "97915                        199.90  83b5fc912b2862c5046555ded1483ae9   \n",
       "97916                         21.80  d0e7be325a1c986babc4e1cdb91edc03   \n",
       "\n",
       "      order_status order_purchase_timestamp_y    order_approved_at  \\\n",
       "0        delivered        2017-11-14 16:08:26  2017-11-14 16:35:32   \n",
       "1        delivered        2017-07-16 09:40:32  2017-07-16 09:55:12   \n",
       "2        delivered        2017-02-28 11:06:43  2017-02-28 11:15:20   \n",
       "3        delivered        2017-08-16 13:09:20  2017-08-17 03:10:27   \n",
       "4        delivered        2018-04-02 13:42:17  2018-04-04 03:10:19   \n",
       "...            ...                        ...                  ...   \n",
       "97912    delivered        2018-03-17 00:55:27  2018-03-17 01:35:21   \n",
       "97913    delivered        2018-03-29 16:59:26  2018-03-29 17:10:27   \n",
       "97914    delivered        2018-05-22 13:36:02  2018-05-22 13:54:37   \n",
       "97915    delivered        2018-06-13 16:57:05  2018-06-13 17:20:23   \n",
       "97916    delivered        2017-09-02 11:53:32  2017-09-02 12:05:40   \n",
       "\n",
       "      order_delivered_carrier_date order_delivered_customer_date  \\\n",
       "0              2017-11-17 15:32:08           2017-11-28 15:41:30   \n",
       "1              2017-07-19 19:09:37           2017-07-25 18:57:33   \n",
       "2              2017-03-01 15:24:20           2017-03-06 08:57:49   \n",
       "3              2017-08-19 11:34:29           2017-09-13 20:06:02   \n",
       "4              2018-04-04 18:11:09           2018-04-13 20:21:08   \n",
       "...                            ...                           ...   \n",
       "97912          2018-03-17 17:58:48           2018-03-21 19:24:46   \n",
       "97913          2018-03-31 14:29:38           2018-04-10 17:20:49   \n",
       "97914          2018-05-25 13:25:00           2018-06-08 18:03:31   \n",
       "97915          2018-06-15 18:52:00           2018-06-18 18:33:05   \n",
       "97916          2017-09-08 20:04:11           2017-09-14 19:47:40   \n",
       "\n",
       "      order_estimated_delivery_date  tiempo_envio_y  \n",
       "0                        2017-12-04            13.0  \n",
       "1                        2017-08-04             9.0  \n",
       "2                        2017-03-22             5.0  \n",
       "3                        2017-09-14            28.0  \n",
       "4                        2018-04-18            11.0  \n",
       "...                             ...             ...  \n",
       "97912                    2018-04-05             4.0  \n",
       "97913                    2018-04-27            12.0  \n",
       "97914                    2018-06-29            17.0  \n",
       "97915                    2018-06-25             5.0  \n",
       "97916                    2017-09-26            12.0  \n",
       "\n",
       "[97917 rows x 15 columns]"
      ]
     },
     "execution_count": 291,
     "metadata": {},
     "output_type": "execute_result"
    }
   ],
   "source": [
    "data_merged = pd.merge(toda_la_data, olist_orders, on='customer_id', how='left')\n",
    "data_merged"
   ]
  },
  {
   "cell_type": "code",
   "execution_count": 292,
   "metadata": {},
   "outputs": [
    {
     "name": "stdout",
     "output_type": "stream",
     "text": [
      "Valor perdido anual estimado: 9567985 €\n",
      "Reduciendo un 10% el churn se podrían recuperar: 956799 €\n"
     ]
    }
   ],
   "source": [
    "# Valor medio de compra\n",
    "avg_order_value = data_merged['media_valor_ticket_por_venta'].mean()\n",
    "\n",
    "# Compras anuales por cliente activo\n",
    "compras_anuales = data_merged[data_merged['churn'] == 0].groupby('customer_id')['order_id'].count().mean()\n",
    "\n",
    "# Estimación de clientes churned en un año\n",
    "churned_anual = data_merged[data_merged['churn'] == 1]['customer_id'].nunique()\n",
    "\n",
    "# Pérdida anual total\n",
    "valor_perdido_anual = avg_order_value * compras_anuales * churned_anual\n",
    "\n",
    "# Estimación de recuperación si reducimos el churn un 10%\n",
    "recuperacion_10 = valor_perdido_anual * 0.10\n",
    "\n",
    "print(f\"Valor perdido anual estimado: {valor_perdido_anual:.0f} €\")\n",
    "print(f\"Reduciendo un 10% el churn se podrían recuperar: {recuperacion_10:.0f} €\")"
   ]
  },
  {
   "cell_type": "code",
   "execution_count": 293,
   "metadata": {},
   "outputs": [
    {
     "data": {
      "text/plain": [
       "69568"
      ]
     },
     "execution_count": 293,
     "metadata": {},
     "output_type": "execute_result"
    }
   ],
   "source": [
    "# Contar clientes churned por año\n",
    "clientes_churn = toda_la_data[toda_la_data['churn'] == 1]\n",
    "clientes_perdidos = clientes_churn['customer_id'].nunique()\n",
    "\n",
    "# Si los datos son anuales, el número de clientes perdidos ya es anual\n",
    "clientes_perdidos_por_ano = clientes_perdidos\n",
    "clientes_perdidos_por_ano"
   ]
  },
  {
   "cell_type": "code",
   "execution_count": 294,
   "metadata": {},
   "outputs": [
    {
     "name": "stderr",
     "output_type": "stream",
     "text": [
      "C:\\Users\\nerea\\AppData\\Local\\Temp\\ipykernel_13172\\70434701.py:6: FutureWarning: \n",
      "\n",
      "Passing `palette` without assigning `hue` is deprecated and will be removed in v0.14.0. Assign the `x` variable to `hue` and set `legend=False` for the same effect.\n",
      "\n",
      "  sns.barplot(data=mean_values_ticket, x='churn', y='media_valor_ticket_por_venta', palette='YlOrBr')  # Colores amarillos\n"
     ]
    },
    {
     "data": {
      "image/png": "[encoded data removed]",
      "text/plain": [
       "<Figure size 900x600 with 1 Axes>"
      ]
     },
     "metadata": {},
     "output_type": "display_data"
    },
    {
     "name": "stderr",
     "output_type": "stream",
     "text": [
      "C:\\Users\\nerea\\AppData\\Local\\Temp\\ipykernel_13172\\70434701.py:18: FutureWarning: \n",
      "\n",
      "Passing `palette` without assigning `hue` is deprecated and will be removed in v0.14.0. Assign the `x` variable to `hue` and set `legend=False` for the same effect.\n",
      "\n",
      "  sns.barplot(data=mean_values_tiempo, x='churn', y='tiempo_envio', palette='YlOrBr')  # Colores amarillos\n"
     ]
    },
    {
     "data": {
      "image/png": "[encoded data removed]",
      "text/plain": [
       "<Figure size 900x600 with 1 Axes>"
      ]
     },
     "metadata": {},
     "output_type": "display_data"
    },
    {
     "name": "stderr",
     "output_type": "stream",
     "text": [
      "C:\\Users\\nerea\\AppData\\Local\\Temp\\ipykernel_13172\\70434701.py:30: FutureWarning: \n",
      "\n",
      "Passing `palette` without assigning `hue` is deprecated and will be removed in v0.14.0. Assign the `x` variable to `hue` and set `legend=False` for the same effect.\n",
      "\n",
      "  sns.barplot(data=mean_values_review, x='churn', y='review_score', palette='YlOrBr')  # Colores amarillos\n"
     ]
    },
    {
     "data": {
      "image/png": "[encoded data removed]",
      "text/plain": [
       "<Figure size 900x600 with 1 Axes>"
      ]
     },
     "metadata": {},
     "output_type": "display_data"
    }
   ],
   "source": [
    "# 1. Gráfico para Ticket Medio\n",
    "mean_values_ticket = toda_la_data.groupby('churn')['media_valor_ticket_por_venta'].mean().reset_index()\n",
    "mean_values_ticket['churn'] = mean_values_ticket['churn'].map({0: 'Activo', 1: 'Churned'})\n",
    "\n",
    "plt.figure(figsize=(9,6))\n",
    "sns.barplot(data=mean_values_ticket, x='churn', y='media_valor_ticket_por_venta', palette='YlOrBr')  # Colores amarillos\n",
    "plt.title('Comparación de Ticket Medio: Activos vs Churned', fontsize=14)\n",
    "plt.xlabel('Cliente')\n",
    "plt.ylabel('Ticket Medio (€)')\n",
    "plt.tight_layout()\n",
    "plt.show()\n",
    "\n",
    "# 2. Gráfico para Tiempo de Entrega\n",
    "mean_values_tiempo = toda_la_data.groupby('churn')['tiempo_envio'].mean().reset_index()\n",
    "mean_values_tiempo['churn'] = mean_values_tiempo['churn'].map({0: 'Activo', 1: 'Churned'})\n",
    "\n",
    "plt.figure(figsize=(9,6))\n",
    "sns.barplot(data=mean_values_tiempo, x='churn', y='tiempo_envio', palette='YlOrBr')  # Colores amarillos\n",
    "plt.title('Comparación de Tiempo de Entrega: Activos vs Churned', fontsize=14)\n",
    "plt.xlabel('Cliente')\n",
    "plt.ylabel('Tiempo de Entrega (días)')\n",
    "plt.tight_layout()\n",
    "plt.show()\n",
    "\n",
    "# 3. Gráfico para Puntuación de Reseña\n",
    "mean_values_review = toda_la_data.groupby('churn')['review_score'].mean().reset_index()\n",
    "mean_values_review['churn'] = mean_values_review['churn'].map({0: 'Activo', 1: 'Churned'})\n",
    "\n",
    "plt.figure(figsize=(9,6))\n",
    "sns.barplot(data=mean_values_review, x='churn', y='review_score', palette='YlOrBr')  # Colores amarillos\n",
    "plt.title('Comparación de Puntuación de Reseña: Activos vs Churned', fontsize=14)\n",
    "plt.xlabel('Cliente')\n",
    "plt.ylabel('Puntuación de Reseña')\n",
    "plt.tight_layout()\n",
    "plt.show()"
   ]
  },
  {
   "cell_type": "markdown",
   "metadata": {},
   "source": [
    "-------------------------------------------------------------------------------------------------------\n",
    "CONFIRMACIÓN DE HIPÓTESIS\n",
    "-------------------------------------------------------------------------------------------------------"
   ]
  },
  {
   "cell_type": "code",
   "execution_count": null,
   "metadata": {},
   "outputs": [],
   "source": [
    "import pandas as pd\n",
    "import seaborn as sns\n",
    "import matplotlib.pyplot as plt\n",
    "from scipy.stats import ttest_ind\n",
    "#Este análisis estadístico \n",
    "#usa el Test T de Student para comparar medias entre dos grupos: clientes que hicieron churn (1) y activos (0)."
   ]
  },
  {
   "cell_type": "markdown",
   "metadata": {},
   "source": [
    "CONFIRMO A PEOR REVIEW MAYOR CHURN"
   ]
  },
  {
   "cell_type": "code",
   "execution_count": null,
   "metadata": {},
   "outputs": [],
   "source": [
    "churned = toda_la_data[toda_la_data[\"churn\"] == 1][\"review_score\"]\n",
    "active = toda_la_data[toda_la_data[\"churn\"] == 0][\"review_score\"]\n",
    "t3, p3 = ttest_ind(churned, active, equal_var=False)"
   ]
  },
  {
   "cell_type": "markdown",
   "metadata": {},
   "source": [
    "CONFIRMO TICKET MEDIO + SI NO ES CHURN"
   ]
  },
  {
   "cell_type": "code",
   "execution_count": null,
   "metadata": {},
   "outputs": [],
   "source": [
    "churned = toda_la_data[toda_la_data[\"churn\"] == 1][\"media_valor_ticket_por_venta\"]\n",
    "active = toda_la_data[toda_la_data[\"churn\"] == 0][\"media_valor_ticket_por_venta\"]\n",
    "t1, p1 = ttest_ind(churned, active, equal_var=False)"
   ]
  },
  {
   "cell_type": "code",
   "execution_count": null,
   "metadata": {},
   "outputs": [],
   "source": [
    "print(\"Test de review_score:    t = {:.3f}, p = {:.4f}\".format(t3, p3))"
   ]
  },
  {
   "cell_type": "code",
   "execution_count": null,
   "metadata": {},
   "outputs": [],
   "source": [
    "print(\"Test de media_valor_ticket_por_venta: t = {:.3f}, p = {:.4f}\".format(t1, p1))"
   ]
  },
  {
   "cell_type": "markdown",
   "metadata": {},
   "source": [
    "CORFIRMO SI EL TIEMPO DE ENTREGA INFLUYE EN EL CHURN"
   ]
  },
  {
   "cell_type": "code",
   "execution_count": null,
   "metadata": {},
   "outputs": [],
   "source": [
    "print(toda_la_data[\"tiempo_envio\"].isna().sum())"
   ]
  },
  {
   "cell_type": "code",
   "execution_count": null,
   "metadata": {},
   "outputs": [],
   "source": [
    "print(toda_la_data[\"tiempo_envio\"].shape)"
   ]
  },
  {
   "cell_type": "code",
   "execution_count": null,
   "metadata": {},
   "outputs": [],
   "source": [
    "data_clean = toda_la_data.dropna(subset=[\"tiempo_envio\"])\n",
    "#Decido eliminar los nan porque solo suponen alrededor de un 2% del total de datos"
   ]
  },
  {
   "cell_type": "code",
   "execution_count": null,
   "metadata": {},
   "outputs": [],
   "source": [
    "churned = data_clean[data_clean[\"churn\"] == 1][\"tiempo_envio\"]\n",
    "active = data_clean[data_clean[\"churn\"] == 0][\"tiempo_envio\"]\n",
    "t2, p2 = ttest_ind(churned, active, equal_var=False)\n"
   ]
  },
  {
   "cell_type": "code",
   "execution_count": null,
   "metadata": {},
   "outputs": [],
   "source": [
    "print(\"Test de delivery_time:   t = {:.3f}, p = {:.4f}\".format(t2, p2))"
   ]
  },
  {
   "cell_type": "code",
   "execution_count": null,
   "metadata": {},
   "outputs": [],
   "source": [
    "# 1. Calcular la media de media_valor_ticket_por_venta para churned y active\n",
    "mean_values = toda_la_data.groupby('churn')['media_valor_ticket_por_venta'].mean().reset_index()\n",
    "\n",
    "# 2. Crear el gráfico de barras\n",
    "plt.figure(figsize=(8,6))\n",
    "sns.barplot(x='churn', y='media_valor_ticket_por_venta', data=mean_values, palette='Set2')\n",
    "\n",
    "# 3. Personalizar el gráfico\n",
    "plt.title('Valor Promedio de Compra según Churn', fontsize=14)\n",
    "plt.xlabel('Churn (0 = No, 1 = Sí)', fontsize=12)\n",
    "plt.ylabel('Valor Promedio de Compra (Media Valor Ticket)', fontsize=12)\n",
    "plt.xticks([0, 1], ['No Churn', 'Churn'], rotation=0)\n",
    "\n",
    "# 4. Mostrar el gráfico\n",
    "plt.show()\n"
   ]
  },
  {
   "cell_type": "markdown",
   "metadata": {},
   "source": [
    "CREACIÓN DE CHURN SCORING"
   ]
  },
  {
   "cell_type": "code",
   "execution_count": null,
   "metadata": {},
   "outputs": [],
   "source": [
    "from sklearn.preprocessing import MinMaxScaler"
   ]
  },
  {
   "cell_type": "code",
   "execution_count": null,
   "metadata": {},
   "outputs": [],
   "source": [
    "#Tengo que escalar las variables\n",
    "\n",
    "scaler = MinMaxScaler()\n",
    "toda_la_data[[\"media_valor_ticket_por_venta\", \"tiempo_envio\", \"review_score\"]] = scaler.fit_transform(\n",
    "    toda_la_data[[\"media_valor_ticket_por_venta\", \"tiempo_envio\", \"review_score\"]]\n",
    ")"
   ]
  },
  {
   "cell_type": "code",
   "execution_count": null,
   "metadata": {},
   "outputs": [],
   "source": [
    "#Calculo churn scoring\n",
    "toda_la_data[\"churn_score\"] = (\n",
    "    0.4 * (1 - toda_la_data[\"media_valor_ticket_por_venta\"]) +  #Invertimos avg_order_value porque un valor más bajo puede indicar churn\n",
    "    0.3 * toda_la_data[\"tiempo_envio\"] +          #Tiempo de entrega más largo puede aumentar el churn\n",
    "    0.3 * (1 - toda_la_data[\"review_score\"])       #Puntuación de reseña más bajos pueden indicar churn\n",
    ")\n"
   ]
  },
  {
   "cell_type": "code",
   "execution_count": null,
   "metadata": {},
   "outputs": [],
   "source": [
    "#Visualizar clientes con más riesgo de churn\n",
    "top_churn = toda_la_data.sort_values(by=\"churn_score\", ascending=False).head(10)\n",
    "print(top_churn[[\"customer_id\", \"churn_score\"]])\n"
   ]
  },
  {
   "cell_type": "markdown",
   "metadata": {},
   "source": [
    "DISIÓN DE 3 SEGMENTOS EN RELACIÓN AL CHURN SCORE"
   ]
  },
  {
   "cell_type": "code",
   "execution_count": null,
   "metadata": {},
   "outputs": [],
   "source": [
    "#Calcular los percentiles para dividir en tres segmentos\n",
    "lower_percentile = toda_la_data[\"churn_score\"].quantile(0.33)  # 33%\n",
    "upper_percentile = toda_la_data[\"churn_score\"].quantile(0.66)  # 66%"
   ]
  },
  {
   "cell_type": "code",
   "execution_count": null,
   "metadata": {},
   "outputs": [],
   "source": [
    "\n",
    "#Asignar una nueva columna \"risk_segment\" para identificar el riesgo de churn\n",
    "def assign_risk_segment(churn_score):\n",
    "    if churn_score <= lower_percentile:\n",
    "        return \"Bajo riesgo\"\n",
    "    elif churn_score <= upper_percentile:\n",
    "        return \"Riesgo medio\"\n",
    "    else:\n",
    "        return \"Alto riesgo\""
   ]
  },
  {
   "cell_type": "code",
   "execution_count": null,
   "metadata": {},
   "outputs": [],
   "source": [
    "\n",
    "#Aplicar la función a la columna 'churn_score'\n",
    "toda_la_data[\"risk_segment\"] = toda_la_data[\"churn_score\"].apply(assign_risk_segment)"
   ]
  },
  {
   "cell_type": "code",
   "execution_count": null,
   "metadata": {},
   "outputs": [],
   "source": [
    "\n",
    "#Verificar los segmentos creados\n",
    "toda_la_data[\"churn_score\"] = toda_la_data[\"churn_score\"].round(2)\n",
    "toda_la_data[[\"customer_id\", \"risk_segment\",\"churn_score\", \"churn\"]]\n"
   ]
  },
  {
   "cell_type": "code",
   "execution_count": null,
   "metadata": {},
   "outputs": [],
   "source": [
    "toda_la_data"
   ]
  },
  {
   "cell_type": "markdown",
   "metadata": {},
   "source": [
    "-----------------------------------------------------------------------\n",
    "Visualizaciones\n",
    "-----------------------------------------------------------------------"
   ]
  },
  {
   "cell_type": "markdown",
   "metadata": {},
   "source": [
    "Gráfico compras clientes churn y no churn"
   ]
  },
  {
   "cell_type": "code",
   "execution_count": null,
   "metadata": {},
   "outputs": [],
   "source": [
    "clientes_churn = toda_la_data['churn'].value_counts().reset_index()\n",
    "clientes_churn.columns = ['churn', 'num_clientes']\n",
    "clientes_churn"
   ]
  },
  {
   "cell_type": "code",
   "execution_count": null,
   "metadata": {},
   "outputs": [],
   "source": [
    "\n",
    "\n",
    "\n",
    "# Contar los clientes que son churn (1) y no churn (0)\n",
    "clientes_churn_vs_no_churn = toda_la_data['churn'].value_counts().reset_index()\n",
    "clientes_churn_vs_no_churn.columns = ['Churn (0=Activo, 1=Churn)', 'Número de Clientes']\n",
    "\n",
    "# Reemplazar los valores 0 y 1 por 'Activo' y 'Churn' respectivamente\n",
    "clientes_churn_vs_no_churn['Churn (0=Activo, 1=Churn)'] = clientes_churn_vs_no_churn['Churn (0=Activo, 1=Churn)'].map({0: 'Activo', 1: 'Churn'})\n",
    "\n",
    "# Crear gráfico de barras con colores amarillos\n",
    "plt.figure(figsize=(8, 6))\n",
    "clientes_churn_vs_no_churn.plot(kind='bar', x='Churn (0=Activo, 1=Churn)', y='Número de Clientes', legend=False, color=['#FFEB3B', '#FFEB8A'])\n",
    "\n",
    "# Personalizar el gráfico\n",
    "plt.title('Clientes Churn vs Activos', fontsize=16)\n",
    "plt.xlabel('Estado del Cliente', fontsize=12)\n",
    "plt.ylabel('Número de Clientes', fontsize=12)\n",
    "plt.xticks(rotation=0)  # Mantener las etiquetas horizontales\n",
    "plt.show()\n"
   ]
  },
  {
   "cell_type": "code",
   "execution_count": null,
   "metadata": {},
   "outputs": [],
   "source": [
    "plt.figure(figsize=(6, 5))\n",
    "sns.barplot(data=clientes_churn, x='churn', y='num_clientes', palette='Set2')\n",
    "\n",
    "# Añadir etiquetas y título\n",
    "plt.title('Número de Clientes Churned vs Activos', fontsize=14)\n",
    "plt.xlabel('Churn (0 = Activo, 1 = Churn)', fontsize=12)\n",
    "plt.ylabel('Número de Clientes', fontsize=12)\n",
    "plt.xticks([0, 1], ['Activos', 'Churned'])\n",
    "\n",
    "# Mostrar los valores encima de las barras\n",
    "for index, row in clientes_churn.iterrows():\n",
    "    plt.text(index, row.num_clientes + 500, row.num_clientes, ha='center', fontsize=11)\n",
    "\n",
    "plt.tight_layout()\n",
    "plt.show()"
   ]
  },
  {
   "cell_type": "code",
   "execution_count": null,
   "metadata": {},
   "outputs": [],
   "source": [
    "orders_with_churn = olist_orders.merge(toda_la_data[['customer_id', 'churn']], on='customer_id')\n",
    "pedidos_churn = orders_with_churn.groupby('churn')['order_id'].count().reset_index()\n",
    "pedidos_churn.columns = ['churn', 'num_pedidos']\n",
    "pedidos_churn"
   ]
  },
  {
   "cell_type": "code",
   "execution_count": null,
   "metadata": {},
   "outputs": [],
   "source": [
    "pedidos_churn_nochurn = clientes_churn.merge(pedidos_churn, on='churn')"
   ]
  },
  {
   "cell_type": "code",
   "execution_count": null,
   "metadata": {},
   "outputs": [],
   "source": [
    "fig, ax = plt.subplots(figsize=(8,6))\n",
    "bar_width = 0.35\n",
    "x = pedidos_churn_nochurn[\"churn\"]\n",
    "ax.bar(x - bar_width/2, pedidos_churn_nochurn['num_clientes'], width=bar_width, label='Clientes')\n",
    "ax.bar(x + bar_width/2, pedidos_churn_nochurn['num_pedidos'], width=bar_width, label='Pedidos')\n",
    "\n",
    "# Personalizar\n",
    "ax.set_xticks([0, 1])\n",
    "ax.set_xticklabels(['Activos', 'Churned'])\n",
    "ax.set_ylabel('Número de pedidos')\n",
    "ax.set_title('Clientes y Pedidos por grupo de Churn')\n",
    "ax.legend()\n",
    "\n",
    "plt.tight_layout()\n",
    "plt.show()"
   ]
  },
  {
   "cell_type": "markdown",
   "metadata": {},
   "source": [
    "Coste por adquisición y pérdidas"
   ]
  },
  {
   "cell_type": "code",
   "execution_count": null,
   "metadata": {},
   "outputs": [],
   "source": [
    "# Datos\n",
    "coste = [\"Adquisición\", \"Retención\"]\n",
    "valores = [100, 20]\n",
    "\n",
    "# Crear gráfico\n",
    "plt.figure(figsize=(6, 5))\n",
    "bars = plt.bar(coste, valores, color=['#FF8C00', '#20B2AA'])\n",
    "\n",
    "# Añadir etiquetas en las barras\n",
    "for bar in bars:\n",
    "    yval = bar.get_height()\n",
    "    plt.text(bar.get_x() + bar.get_width()/2, yval + 2, f'{yval}€', ha='center', fontsize=12)\n",
    "\n",
    "# Personalizar\n",
    "plt.title('Coste de adquirir vs retener un cliente', fontsize=14)\n",
    "plt.ylabel('Coste (€)', fontsize=12)\n",
    "plt.ylim(0, 120)\n",
    "plt.grid(axis='y', linestyle='--', alpha=0.5)\n",
    "\n",
    "plt.tight_layout()\n",
    "plt.show()"
   ]
  },
  {
   "cell_type": "code",
   "execution_count": null,
   "metadata": {},
   "outputs": [],
   "source": [
    "toda_la_data"
   ]
  },
  {
   "cell_type": "code",
   "execution_count": null,
   "metadata": {},
   "outputs": [],
   "source": [
    "# Valor medio de compra\n",
    "avg_order_value = toda_la_data['media_ticket_por_venta'].mean()\n",
    "\n",
    "# Compras anuales por cliente activo\n",
    "compras_anuales = toda_la_data[toda_la_data['churn'] == 0].groupby('customer_id')['order_id'].count().mean()\n",
    "\n",
    "# Estimación de clientes churned en un año\n",
    "churned_anual = toda_la_data[toda_la_data['churn'] == 1]['customer_id'].nunique()\n",
    "\n",
    "# Pérdida anual total\n",
    "valor_perdido_anual = avg_order_value * compras_anuales * churned_anual\n",
    "\n",
    "# Estimación de recuperación si reducimos el churn un 10%\n",
    "recuperacion_10 = valor_perdido_anual * 0.10\n",
    "\n",
    "print(f\"Valor perdido anual estimado: {valor_perdido_anual:.0f} €\")\n",
    "print(f\"Reduciendo un 10% el churn se podrían recuperar: {recuperacion_10:.0f} €\")\n"
   ]
  },
  {
   "cell_type": "markdown",
   "metadata": {},
   "source": [
    "Clasificación segmentos por nivel de riesgo"
   ]
  },
  {
   "cell_type": "code",
   "execution_count": null,
   "metadata": {},
   "outputs": [],
   "source": [
    "# Contar clientes por segmento\n",
    "segment_counts = toda_la_data['risk_segment'].value_counts()\n",
    "\n",
    "# Crear gráfico de tarta\n",
    "plt.figure(figsize=(7, 7))\n",
    "plt.pie(segment_counts, \n",
    "        labels=segment_counts.index, \n",
    "        autopct='%1.1f%%', \n",
    "        startangle=140, \n",
    "        colors=plt.cm.Set2.colors)\n",
    "\n",
    "# Personalizar\n",
    "plt.title('Distribución de clientes por segmento de riesgo', fontsize=14)\n",
    "plt.axis('equal')  # Mantiene el círculo proporcionado\n",
    "\n",
    "# Mostrar gráfico\n",
    "plt.show()\n",
    "\n"
   ]
  },
  {
   "cell_type": "code",
   "execution_count": null,
   "metadata": {},
   "outputs": [],
   "source": [
    "import matplotlib.pyplot as plt\n",
    "\n",
    "# Contar clientes por segmento\n",
    "segment_counts = toda_la_data['risk_segment'].value_counts()\n",
    "\n",
    "# Colores amarillos con más contraste\n",
    "yellow_colors = ['#FFFACD', '#FFD700', '#FFA500']  # LemonChiffon, Gold, Orange\n",
    "\n",
    "# Crear gráfico de tarta sin texto sobre los trozos\n",
    "plt.figure(figsize=(8, 6))\n",
    "wedges, _ = plt.pie(\n",
    "    segment_counts,\n",
    "    startangle=140,\n",
    "    colors=yellow_colors\n",
    ")\n",
    "\n",
    "# Leyenda a un lado con colores y cantidad\n",
    "plt.legend(\n",
    "    wedges,\n",
    "    [f\"{label} ({value})\" for label, value in zip(segment_counts.index, segment_counts)],\n",
    "    title=\"Segmentos\",\n",
    "    loc=\"center left\",\n",
    "    bbox_to_anchor=(1, 0.5),\n",
    "    fontsize=11\n",
    ")\n",
    "\n",
    "plt.title('Distribución de clientes por segmento de riesgo', fontsize=14)\n",
    "plt.axis('equal')\n",
    "plt.tight_layout()\n",
    "plt.show()\n",
    "\n",
    "\n",
    "\n"
   ]
  },
  {
   "cell_type": "markdown",
   "metadata": {},
   "source": [
    "Validación de hipótesis\n",
    "\n",
    "Los clientes churned gastan menos (media_valor_ticket_por_venta).\n",
    "\n",
    "Esperan más tiempo en los envíos (tiempo_envio).\n",
    "\n",
    "Dan peores puntuaciones (review_score)."
   ]
  },
  {
   "cell_type": "code",
   "execution_count": null,
   "metadata": {},
   "outputs": [],
   "source": [
    "mean_values = toda_la_data.groupby('churn')[['media_valor_ticket_por_venta', 'tiempo_envio', 'review_score']].mean().reset_index()\n",
    "\n",
    "# Renombrar la columna de churn para claridad\n",
    "mean_values['churn'] = mean_values['churn'].map({0: 'Activo', 1: 'Churned'})\n",
    "\n",
    "# Transponer para facilitar el gráfico\n",
    "mean_values_melted = mean_values.melt(id_vars='churn', var_name='Variable', value_name='Media')\n",
    "\n",
    "# Crear el gráfico\n",
    "plt.figure(figsize=(9,6))\n",
    "sns.barplot(data=mean_values_melted, x='Variable', y='Media', hue='churn', palette='Set2')\n",
    "\n",
    "# Personalizar\n",
    "plt.title('Comparación de Variables Clave: Activos vs Churned', fontsize=14)\n",
    "plt.xlabel('Variable')\n",
    "plt.ylabel('Valor Medio')\n",
    "plt.legend(title='Cliente')\n",
    "\n",
    "# Mostrar gráfico\n",
    "plt.tight_layout()\n",
    "plt.show()"
   ]
  },
  {
   "cell_type": "code",
   "execution_count": null,
   "metadata": {},
   "outputs": [],
   "source": [
    "# 1. Gráfico para Ticket Medio\n",
    "mean_values_ticket = toda_la_data.groupby('churn')['media_valor_ticket_por_venta'].mean().reset_index()\n",
    "mean_values_ticket['churn'] = mean_values_ticket['churn'].map({0: 'Activo', 1: 'Churned'})\n",
    "\n",
    "plt.figure(figsize=(9,6))\n",
    "sns.barplot(data=mean_values_ticket, x='churn', y='media_valor_ticket_por_venta', palette='YlOrBr')  # Colores amarillos\n",
    "plt.title('Comparación de Ticket Medio: Activos vs Churned', fontsize=14)\n",
    "plt.xlabel('Cliente')\n",
    "plt.ylabel('Ticket Medio (€)')\n",
    "plt.tight_layout()\n",
    "plt.show()\n",
    "\n",
    "# 2. Gráfico para Tiempo de Entrega\n",
    "mean_values_tiempo = toda_la_data.groupby('churn')['tiempo_envio'].mean().reset_index()\n",
    "mean_values_tiempo['churn'] = mean_values_tiempo['churn'].map({0: 'Activo', 1: 'Churned'})\n",
    "\n",
    "plt.figure(figsize=(9,6))\n",
    "sns.barplot(data=mean_values_tiempo, x='churn', y='tiempo_envio', palette='YlOrBr')  # Colores amarillos\n",
    "plt.title('Comparación de Tiempo de Entrega: Activos vs Churned', fontsize=14)\n",
    "plt.xlabel('Cliente')\n",
    "plt.ylabel('Tiempo de Entrega (días)')\n",
    "plt.tight_layout()\n",
    "plt.show()\n",
    "\n",
    "# 3. Gráfico para Puntuación de Reseña\n",
    "mean_values_review = toda_la_data.groupby('churn')['review_score'].mean().reset_index()\n",
    "mean_values_review['churn'] = mean_values_review['churn'].map({0: 'Activo', 1: 'Churned'})\n",
    "\n",
    "plt.figure(figsize=(9,6))\n",
    "sns.barplot(data=mean_values_review, x='churn', y='review_score', palette='YlOrBr')  # Colores amarillos\n",
    "plt.title('Comparación de Puntuación de Reseña: Activos vs Churned', fontsize=14)\n",
    "plt.xlabel('Cliente')\n",
    "plt.ylabel('Puntuación de Reseña')\n",
    "plt.tight_layout()\n",
    "plt.show()\n"
   ]
  }
 ],
 "metadata": {
  "kernelspec": {
   "display_name": "Python 3",
   "language": "python",
   "name": "python3"
  },
  "language_info": {
   "codemirror_mode": {
    "name": "ipython",
    "version": 3
   },
   "file_extension": ".py",
   "mimetype": "text/x-python",
   "name": "python",
   "nbconvert_exporter": "python",
   "pygments_lexer": "ipython3",
   "version": "3.11.9"
  }
 },
 "nbformat": 4,
 "nbformat_minor": 2
}
