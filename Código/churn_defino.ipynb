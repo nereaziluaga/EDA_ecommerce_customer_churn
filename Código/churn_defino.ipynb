{
 "cells": [
  {
   "cell_type": "code",
   "execution_count": 4,
   "metadata": {},
   "outputs": [],
   "source": [
    "import pandas as pd\n"
   ]
  },
  {
   "cell_type": "code",
   "execution_count": 5,
   "metadata": {},
   "outputs": [
    {
     "data": {
      "application/vnd.microsoft.datawrangler.viewer.v0+json": {
       "columns": [
        {
         "name": "index",
         "rawType": "int64",
         "type": "integer"
        },
        {
         "name": "order_id",
         "rawType": "object",
         "type": "string"
        },
        {
         "name": "customer_id",
         "rawType": "object",
         "type": "string"
        },
        {
         "name": "order_status",
         "rawType": "object",
         "type": "string"
        },
        {
         "name": "order_purchase_timestamp",
         "rawType": "object",
         "type": "string"
        },
        {
         "name": "order_approved_at",
         "rawType": "object",
         "type": "string"
        },
        {
         "name": "order_delivered_carrier_date",
         "rawType": "object",
         "type": "string"
        },
        {
         "name": "order_delivered_customer_date",
         "rawType": "object",
         "type": "string"
        },
        {
         "name": "order_estimated_delivery_date",
         "rawType": "object",
         "type": "string"
        }
       ],
       "conversionMethod": "pd.DataFrame",
       "ref": "51ab62f9-b51f-499e-870b-f57b62f180b7",
       "rows": [
        [
         "0",
         "e481f51cbdc54678b7cc49136f2d6af7",
         "9ef432eb6251297304e76186b10a928d",
         "delivered",
         "2017-10-02 10:56:33",
         "2017-10-02 11:07:15",
         "2017-10-04 19:55:00",
         "2017-10-10 21:25:13",
         "2017-10-18 00:00:00"
        ],
        [
         "1",
         "53cdb2fc8bc7dce0b6741e2150273451",
         "b0830fb4747a6c6d20dea0b8c802d7ef",
         "delivered",
         "2018-07-24 20:41:37",
         "2018-07-26 03:24:27",
         "2018-07-26 14:31:00",
         "2018-08-07 15:27:45",
         "2018-08-13 00:00:00"
        ],
        [
         "2",
         "47770eb9100c2d0c44946d9cf07ec65d",
         "41ce2a54c0b03bf3443c3d931a367089",
         "delivered",
         "2018-08-08 08:38:49",
         "2018-08-08 08:55:23",
         "2018-08-08 13:50:00",
         "2018-08-17 18:06:29",
         "2018-09-04 00:00:00"
        ],
        [
         "3",
         "949d5b44dbf5de918fe9c16f97b45f8a",
         "f88197465ea7920adcdbec7375364d82",
         "delivered",
         "2017-11-18 19:28:06",
         "2017-11-18 19:45:59",
         "2017-11-22 13:39:59",
         "2017-12-02 00:28:42",
         "2017-12-15 00:00:00"
        ],
        [
         "4",
         "ad21c59c0840e6cb83a9ceb5573f8159",
         "8ab97904e6daea8866dbdbc4fb7aad2c",
         "delivered",
         "2018-02-13 21:18:39",
         "2018-02-13 22:20:29",
         "2018-02-14 19:46:34",
         "2018-02-16 18:17:02",
         "2018-02-26 00:00:00"
        ]
       ],
       "shape": {
        "columns": 8,
        "rows": 5
       }
      },
      "text/html": [
       "<div>\n",
       "<style scoped>\n",
       "    .dataframe tbody tr th:only-of-type {\n",
       "        vertical-align: middle;\n",
       "    }\n",
       "\n",
       "    .dataframe tbody tr th {\n",
       "        vertical-align: top;\n",
       "    }\n",
       "\n",
       "    .dataframe thead th {\n",
       "        text-align: right;\n",
       "    }\n",
       "</style>\n",
       "<table border=\"1\" class=\"dataframe\">\n",
       "  <thead>\n",
       "    <tr style=\"text-align: right;\">\n",
       "      <th></th>\n",
       "      <th>order_id</th>\n",
       "      <th>customer_id</th>\n",
       "      <th>order_status</th>\n",
       "      <th>order_purchase_timestamp</th>\n",
       "      <th>order_approved_at</th>\n",
       "      <th>order_delivered_carrier_date</th>\n",
       "      <th>order_delivered_customer_date</th>\n",
       "      <th>order_estimated_delivery_date</th>\n",
       "    </tr>\n",
       "  </thead>\n",
       "  <tbody>\n",
       "    <tr>\n",
       "      <th>0</th>\n",
       "      <td>e481f51cbdc54678b7cc49136f2d6af7</td>\n",
       "      <td>9ef432eb6251297304e76186b10a928d</td>\n",
       "      <td>delivered</td>\n",
       "      <td>2017-10-02 10:56:33</td>\n",
       "      <td>2017-10-02 11:07:15</td>\n",
       "      <td>2017-10-04 19:55:00</td>\n",
       "      <td>2017-10-10 21:25:13</td>\n",
       "      <td>2017-10-18 00:00:00</td>\n",
       "    </tr>\n",
       "    <tr>\n",
       "      <th>1</th>\n",
       "      <td>53cdb2fc8bc7dce0b6741e2150273451</td>\n",
       "      <td>b0830fb4747a6c6d20dea0b8c802d7ef</td>\n",
       "      <td>delivered</td>\n",
       "      <td>2018-07-24 20:41:37</td>\n",
       "      <td>2018-07-26 03:24:27</td>\n",
       "      <td>2018-07-26 14:31:00</td>\n",
       "      <td>2018-08-07 15:27:45</td>\n",
       "      <td>2018-08-13 00:00:00</td>\n",
       "    </tr>\n",
       "    <tr>\n",
       "      <th>2</th>\n",
       "      <td>47770eb9100c2d0c44946d9cf07ec65d</td>\n",
       "      <td>41ce2a54c0b03bf3443c3d931a367089</td>\n",
       "      <td>delivered</td>\n",
       "      <td>2018-08-08 08:38:49</td>\n",
       "      <td>2018-08-08 08:55:23</td>\n",
       "      <td>2018-08-08 13:50:00</td>\n",
       "      <td>2018-08-17 18:06:29</td>\n",
       "      <td>2018-09-04 00:00:00</td>\n",
       "    </tr>\n",
       "    <tr>\n",
       "      <th>3</th>\n",
       "      <td>949d5b44dbf5de918fe9c16f97b45f8a</td>\n",
       "      <td>f88197465ea7920adcdbec7375364d82</td>\n",
       "      <td>delivered</td>\n",
       "      <td>2017-11-18 19:28:06</td>\n",
       "      <td>2017-11-18 19:45:59</td>\n",
       "      <td>2017-11-22 13:39:59</td>\n",
       "      <td>2017-12-02 00:28:42</td>\n",
       "      <td>2017-12-15 00:00:00</td>\n",
       "    </tr>\n",
       "    <tr>\n",
       "      <th>4</th>\n",
       "      <td>ad21c59c0840e6cb83a9ceb5573f8159</td>\n",
       "      <td>8ab97904e6daea8866dbdbc4fb7aad2c</td>\n",
       "      <td>delivered</td>\n",
       "      <td>2018-02-13 21:18:39</td>\n",
       "      <td>2018-02-13 22:20:29</td>\n",
       "      <td>2018-02-14 19:46:34</td>\n",
       "      <td>2018-02-16 18:17:02</td>\n",
       "      <td>2018-02-26 00:00:00</td>\n",
       "    </tr>\n",
       "  </tbody>\n",
       "</table>\n",
       "</div>"
      ],
      "text/plain": [
       "                           order_id                       customer_id  \\\n",
       "0  e481f51cbdc54678b7cc49136f2d6af7  9ef432eb6251297304e76186b10a928d   \n",
       "1  53cdb2fc8bc7dce0b6741e2150273451  b0830fb4747a6c6d20dea0b8c802d7ef   \n",
       "2  47770eb9100c2d0c44946d9cf07ec65d  41ce2a54c0b03bf3443c3d931a367089   \n",
       "3  949d5b44dbf5de918fe9c16f97b45f8a  f88197465ea7920adcdbec7375364d82   \n",
       "4  ad21c59c0840e6cb83a9ceb5573f8159  8ab97904e6daea8866dbdbc4fb7aad2c   \n",
       "\n",
       "  order_status order_purchase_timestamp    order_approved_at  \\\n",
       "0    delivered      2017-10-02 10:56:33  2017-10-02 11:07:15   \n",
       "1    delivered      2018-07-24 20:41:37  2018-07-26 03:24:27   \n",
       "2    delivered      2018-08-08 08:38:49  2018-08-08 08:55:23   \n",
       "3    delivered      2017-11-18 19:28:06  2017-11-18 19:45:59   \n",
       "4    delivered      2018-02-13 21:18:39  2018-02-13 22:20:29   \n",
       "\n",
       "  order_delivered_carrier_date order_delivered_customer_date  \\\n",
       "0          2017-10-04 19:55:00           2017-10-10 21:25:13   \n",
       "1          2018-07-26 14:31:00           2018-08-07 15:27:45   \n",
       "2          2018-08-08 13:50:00           2018-08-17 18:06:29   \n",
       "3          2017-11-22 13:39:59           2017-12-02 00:28:42   \n",
       "4          2018-02-14 19:46:34           2018-02-16 18:17:02   \n",
       "\n",
       "  order_estimated_delivery_date  \n",
       "0           2017-10-18 00:00:00  \n",
       "1           2018-08-13 00:00:00  \n",
       "2           2018-09-04 00:00:00  \n",
       "3           2017-12-15 00:00:00  \n",
       "4           2018-02-26 00:00:00  "
      ]
     },
     "execution_count": 5,
     "metadata": {},
     "output_type": "execute_result"
    }
   ],
   "source": [
    "olist_orders= pd.read_csv(\"olist_orders_dataset.csv\")\n",
    "olist_orders.head()"
   ]
  },
  {
   "cell_type": "code",
   "execution_count": 6,
   "metadata": {},
   "outputs": [
    {
     "name": "stdout",
     "output_type": "stream",
     "text": [
      "<class 'pandas.core.frame.DataFrame'>\n",
      "RangeIndex: 99441 entries, 0 to 99440\n",
      "Data columns (total 8 columns):\n",
      " #   Column                         Non-Null Count  Dtype \n",
      "---  ------                         --------------  ----- \n",
      " 0   order_id                       99441 non-null  object\n",
      " 1   customer_id                    99441 non-null  object\n",
      " 2   order_status                   99441 non-null  object\n",
      " 3   order_purchase_timestamp       99441 non-null  object\n",
      " 4   order_approved_at              99281 non-null  object\n",
      " 5   order_delivered_carrier_date   97658 non-null  object\n",
      " 6   order_delivered_customer_date  96476 non-null  object\n",
      " 7   order_estimated_delivery_date  99441 non-null  object\n",
      "dtypes: object(8)\n",
      "memory usage: 6.1+ MB\n"
     ]
    }
   ],
   "source": [
    "olist_orders.info()"
   ]
  },
  {
   "cell_type": "code",
   "execution_count": 7,
   "metadata": {},
   "outputs": [],
   "source": [
    "olist_orders[\"order_purchase_timestamp\"]= pd.to_datetime(olist_orders[\"order_purchase_timestamp\"]) \n",
    "#Hay que pasarlo a formato datatime o da error porque es un object"
   ]
  },
  {
   "cell_type": "code",
   "execution_count": 8,
   "metadata": {},
   "outputs": [],
   "source": [
    "#Cálculo para definir el churn (6 meses sin realizar compras)"
   ]
  },
  {
   "cell_type": "code",
   "execution_count": 9,
   "metadata": {},
   "outputs": [],
   "source": [
    "#Saco última fecha compra por cliente, que resulta que solo tenemos una fecha, pero bueno.\n",
    "ultima_compra = olist_orders.groupby(\"customer_id\")[\"order_purchase_timestamp\"].max().reset_index()\n"
   ]
  },
  {
   "cell_type": "code",
   "execution_count": 10,
   "metadata": {},
   "outputs": [],
   "source": [
    "#Veo cuántos días llevan sin comprar\n",
    "fecha_referencia = pd.to_datetime('2018-10-17')  #Esta es la última fecha del dataset\n",
    "días_sin_comprar = (fecha_referencia - ultima_compra[\"order_purchase_timestamp\"]).dt.days \n",
    "#.dt.days se necesita para sacar días enteros"
   ]
  },
  {
   "cell_type": "code",
   "execution_count": 11,
   "metadata": {},
   "outputs": [],
   "source": [
    "ultima_compra[\"dias_desde_ultima_compra\"] = días_sin_comprar #añado columna en la que me pone los días sin comprar\n"
   ]
  },
  {
   "cell_type": "code",
   "execution_count": 12,
   "metadata": {},
   "outputs": [],
   "source": [
    "#Defini churn en cada cliente en base a 180 días sin comrar para traabjar el scoring voy a necesitar que sea numérico\n",
    "ultima_compra[\"churn\"] = ultima_compra[\"dias_desde_ultima_compra\"].apply(lambda x: 1 if x > 180 else 0)"
   ]
  },
  {
   "cell_type": "code",
   "execution_count": 13,
   "metadata": {},
   "outputs": [
    {
     "data": {
      "application/vnd.microsoft.datawrangler.viewer.v0+json": {
       "columns": [
        {
         "name": "index",
         "rawType": "int64",
         "type": "integer"
        },
        {
         "name": "customer_id",
         "rawType": "object",
         "type": "string"
        },
        {
         "name": "order_purchase_timestamp",
         "rawType": "datetime64[ns]",
         "type": "datetime"
        },
        {
         "name": "dias_desde_ultima_compra",
         "rawType": "int64",
         "type": "integer"
        },
        {
         "name": "churn",
         "rawType": "int64",
         "type": "integer"
        }
       ],
       "conversionMethod": "pd.DataFrame",
       "ref": "3ce6c522-2842-415e-8536-f2522acf7d13",
       "rows": [
        [
         "0",
         "00012a2ce6f8dcda20d059ce98491703",
         "2017-11-14 16:08:26",
         "336",
         "1"
        ],
        [
         "1",
         "000161a058600d5901f007fab4c27140",
         "2017-07-16 09:40:32",
         "457",
         "1"
        ],
        [
         "2",
         "0001fd6190edaaf884bcaf3d49edf079",
         "2017-02-28 11:06:43",
         "595",
         "1"
        ],
        [
         "3",
         "0002414f95344307404f0ace7a26f1d5",
         "2017-08-16 13:09:20",
         "426",
         "1"
        ],
        [
         "4",
         "000379cdec625522490c315e70c7a9fb",
         "2018-04-02 13:42:17",
         "197",
         "1"
        ],
        [
         "5",
         "0004164d20a9e969af783496f3408652",
         "2017-04-12 08:35:12",
         "552",
         "1"
        ],
        [
         "6",
         "000419c5494106c306a97b5635748086",
         "2018-03-02 17:47:40",
         "228",
         "1"
        ],
        [
         "7",
         "00046a560d407e99b969756e0b10f282",
         "2017-12-18 11:08:30",
         "302",
         "1"
        ],
        [
         "8",
         "00050bf6e01e69d5c0fd612f1bcfb69c",
         "2017-09-17 16:04:44",
         "394",
         "1"
        ],
        [
         "9",
         "000598caf2ef4117407665ac33275130",
         "2018-08-11 12:14:35",
         "66",
         "0"
        ],
        [
         "10",
         "0005aefbb696d34b3424dccd0a0e9fd0",
         "2018-06-20 09:46:53",
         "118",
         "0"
        ],
        [
         "11",
         "00062b33cb9f6fe976afdcff967ea74d",
         "2017-03-15 23:44:09",
         "580",
         "1"
        ],
        [
         "12",
         "00066ccbe787a588c52bd5ff404590e3",
         "2018-02-06 16:10:09",
         "252",
         "1"
        ],
        [
         "13",
         "00072d033fe2e59061ae5c3aff1a2be5",
         "2017-09-01 09:24:39",
         "410",
         "1"
        ],
        [
         "14",
         "0009a69b72033b2d0ec8c69fc70ef768",
         "2017-04-28 13:36:30",
         "536",
         "1"
        ],
        [
         "15",
         "000bf8121c3412d3057d32371c5d3395",
         "2017-10-11 07:44:31",
         "370",
         "1"
        ],
        [
         "16",
         "000e943451fc2788ca6ac98a682f2f49",
         "2017-04-20 19:37:14",
         "544",
         "1"
        ],
        [
         "17",
         "000f17e290c26b28549908a04cfe36c1",
         "2017-11-10 16:37:05",
         "340",
         "1"
        ],
        [
         "18",
         "000fd45d6fedae68fc6676036610f879",
         "2018-04-15 15:55:01",
         "184",
         "1"
        ],
        [
         "19",
         "0010068a73b7c56da5758c3f9e5c7375",
         "2017-04-11 18:19:55",
         "553",
         "1"
        ],
        [
         "20",
         "001028b78fd413e19704b3867c369d3a",
         "2018-04-12 12:51:28",
         "187",
         "1"
        ],
        [
         "21",
         "00104a47c29da701ce41ee52077587d9",
         "2018-01-14 20:28:56",
         "275",
         "1"
        ],
        [
         "22",
         "001051abfcfdbed9f87b4266213a5df1",
         "2018-05-30 09:19:31",
         "139",
         "0"
        ],
        [
         "23",
         "00114026c1b7b52ab1773f317ef4880b",
         "2017-06-01 19:44:44",
         "502",
         "1"
        ],
        [
         "24",
         "001226b2341ef620415ce7bbafcfac28",
         "2017-09-29 01:15:08",
         "382",
         "1"
        ],
        [
         "25",
         "0012a5c13793cf51e253f096a7e740dd",
         "2018-03-05 14:54:23",
         "225",
         "1"
        ],
        [
         "26",
         "0013280441d86a4f7a8006efdaf1b0fe",
         "2018-01-08 02:35:36",
         "281",
         "1"
        ],
        [
         "27",
         "0013cd8e350a7cc76873441e431dd5ee",
         "2018-05-07 23:25:09",
         "162",
         "0"
        ],
        [
         "28",
         "001450ebb4a77efb3d68be5f7887cb1e",
         "2018-02-26 08:35:13",
         "232",
         "1"
        ],
        [
         "29",
         "00146ad30454993879adaa91c518f68c",
         "2018-01-08 20:40:57",
         "281",
         "1"
        ],
        [
         "30",
         "00155f0530cc7b2bf73cc3f81cb01c52",
         "2017-05-14 23:55:13",
         "520",
         "1"
        ],
        [
         "31",
         "001574cd5824c0b1ea90dd4f4ba6d5b8",
         "2017-11-26 02:13:57",
         "324",
         "1"
        ],
        [
         "32",
         "0015bc9fd2d5395446143e8b215d7c75",
         "2018-06-11 19:48:34",
         "127",
         "0"
        ],
        [
         "33",
         "0015f7887e2fde13ddaa7b8e385af919",
         "2017-07-31 11:05:46",
         "442",
         "1"
        ],
        [
         "34",
         "0017a0b4c1f1bdb9c395fa0ac517109c",
         "2018-03-03 18:44:01",
         "227",
         "1"
        ],
        [
         "35",
         "0018c09f333634ca9c80d9ff46e43e9c",
         "2018-07-01 18:07:57",
         "107",
         "0"
        ],
        [
         "36",
         "0018f7fde63ca77254dbc47f4ea358b2",
         "2017-09-26 14:01:47",
         "385",
         "1"
        ],
        [
         "37",
         "0019c9aaad15b043c48f0a1180f22ce8",
         "2018-03-06 00:26:58",
         "224",
         "1"
        ],
        [
         "38",
         "001a57041f56400917a187dd74e6cbc1",
         "2018-01-17 21:22:51",
         "272",
         "1"
        ],
        [
         "39",
         "001b4e9b73aa98a6276b241bfd496822",
         "2018-04-07 02:12:51",
         "192",
         "1"
        ],
        [
         "40",
         "001c7f05398c45b42eee0d5a77783bca",
         "2018-04-12 13:41:07",
         "187",
         "1"
        ],
        [
         "41",
         "001df1ee5c36767aa607001ab1a13a06",
         "2018-08-05 23:14:45",
         "72",
         "0"
        ],
        [
         "42",
         "001f150aebb5d897f2059b0460c38449",
         "2018-05-09 12:06:04",
         "160",
         "0"
        ],
        [
         "43",
         "001f35d9f262c558fd065346fbf5801d",
         "2018-01-25 17:33:55",
         "264",
         "1"
        ],
        [
         "44",
         "001f6f1a5e902ad14e1f709a7215de11",
         "2017-02-07 20:32:13",
         "616",
         "1"
        ],
        [
         "45",
         "00205ad9ba1ef4340cef86583294cf82",
         "2018-05-12 17:51:47",
         "157",
         "0"
        ],
        [
         "46",
         "002236c4f333bc8df6a5939749eb7869",
         "2018-01-22 20:16:33",
         "267",
         "1"
        ],
        [
         "47",
         "002348c1099e3229276c8ad7d4ddc702",
         "2018-01-10 12:28:22",
         "279",
         "1"
        ],
        [
         "48",
         "002408f390f729598bbac1ef9421c6ae",
         "2018-01-10 17:01:34",
         "279",
         "1"
        ],
        [
         "49",
         "002450e9ea44cb90b8a07ba0b197e149",
         "2017-08-16 09:07:13",
         "426",
         "1"
        ]
       ],
       "shape": {
        "columns": 4,
        "rows": 99441
       }
      },
      "text/html": [
       "<div>\n",
       "<style scoped>\n",
       "    .dataframe tbody tr th:only-of-type {\n",
       "        vertical-align: middle;\n",
       "    }\n",
       "\n",
       "    .dataframe tbody tr th {\n",
       "        vertical-align: top;\n",
       "    }\n",
       "\n",
       "    .dataframe thead th {\n",
       "        text-align: right;\n",
       "    }\n",
       "</style>\n",
       "<table border=\"1\" class=\"dataframe\">\n",
       "  <thead>\n",
       "    <tr style=\"text-align: right;\">\n",
       "      <th></th>\n",
       "      <th>customer_id</th>\n",
       "      <th>order_purchase_timestamp</th>\n",
       "      <th>dias_desde_ultima_compra</th>\n",
       "      <th>churn</th>\n",
       "    </tr>\n",
       "  </thead>\n",
       "  <tbody>\n",
       "    <tr>\n",
       "      <th>0</th>\n",
       "      <td>00012a2ce6f8dcda20d059ce98491703</td>\n",
       "      <td>2017-11-14 16:08:26</td>\n",
       "      <td>336</td>\n",
       "      <td>1</td>\n",
       "    </tr>\n",
       "    <tr>\n",
       "      <th>1</th>\n",
       "      <td>000161a058600d5901f007fab4c27140</td>\n",
       "      <td>2017-07-16 09:40:32</td>\n",
       "      <td>457</td>\n",
       "      <td>1</td>\n",
       "    </tr>\n",
       "    <tr>\n",
       "      <th>2</th>\n",
       "      <td>0001fd6190edaaf884bcaf3d49edf079</td>\n",
       "      <td>2017-02-28 11:06:43</td>\n",
       "      <td>595</td>\n",
       "      <td>1</td>\n",
       "    </tr>\n",
       "    <tr>\n",
       "      <th>3</th>\n",
       "      <td>0002414f95344307404f0ace7a26f1d5</td>\n",
       "      <td>2017-08-16 13:09:20</td>\n",
       "      <td>426</td>\n",
       "      <td>1</td>\n",
       "    </tr>\n",
       "    <tr>\n",
       "      <th>4</th>\n",
       "      <td>000379cdec625522490c315e70c7a9fb</td>\n",
       "      <td>2018-04-02 13:42:17</td>\n",
       "      <td>197</td>\n",
       "      <td>1</td>\n",
       "    </tr>\n",
       "    <tr>\n",
       "      <th>...</th>\n",
       "      <td>...</td>\n",
       "      <td>...</td>\n",
       "      <td>...</td>\n",
       "      <td>...</td>\n",
       "    </tr>\n",
       "    <tr>\n",
       "      <th>99436</th>\n",
       "      <td>fffecc9f79fd8c764f843e9951b11341</td>\n",
       "      <td>2018-03-29 16:59:26</td>\n",
       "      <td>201</td>\n",
       "      <td>1</td>\n",
       "    </tr>\n",
       "    <tr>\n",
       "      <th>99437</th>\n",
       "      <td>fffeda5b6d849fbd39689bb92087f431</td>\n",
       "      <td>2018-05-22 13:36:02</td>\n",
       "      <td>147</td>\n",
       "      <td>0</td>\n",
       "    </tr>\n",
       "    <tr>\n",
       "      <th>99438</th>\n",
       "      <td>ffff42319e9b2d713724ae527742af25</td>\n",
       "      <td>2018-06-13 16:57:05</td>\n",
       "      <td>125</td>\n",
       "      <td>0</td>\n",
       "    </tr>\n",
       "    <tr>\n",
       "      <th>99439</th>\n",
       "      <td>ffffa3172527f765de70084a7e53aae8</td>\n",
       "      <td>2017-09-02 11:53:32</td>\n",
       "      <td>409</td>\n",
       "      <td>1</td>\n",
       "    </tr>\n",
       "    <tr>\n",
       "      <th>99440</th>\n",
       "      <td>ffffe8b65bbe3087b653a978c870db99</td>\n",
       "      <td>2017-09-29 14:07:03</td>\n",
       "      <td>382</td>\n",
       "      <td>1</td>\n",
       "    </tr>\n",
       "  </tbody>\n",
       "</table>\n",
       "<p>99441 rows × 4 columns</p>\n",
       "</div>"
      ],
      "text/plain": [
       "                            customer_id order_purchase_timestamp  \\\n",
       "0      00012a2ce6f8dcda20d059ce98491703      2017-11-14 16:08:26   \n",
       "1      000161a058600d5901f007fab4c27140      2017-07-16 09:40:32   \n",
       "2      0001fd6190edaaf884bcaf3d49edf079      2017-02-28 11:06:43   \n",
       "3      0002414f95344307404f0ace7a26f1d5      2017-08-16 13:09:20   \n",
       "4      000379cdec625522490c315e70c7a9fb      2018-04-02 13:42:17   \n",
       "...                                 ...                      ...   \n",
       "99436  fffecc9f79fd8c764f843e9951b11341      2018-03-29 16:59:26   \n",
       "99437  fffeda5b6d849fbd39689bb92087f431      2018-05-22 13:36:02   \n",
       "99438  ffff42319e9b2d713724ae527742af25      2018-06-13 16:57:05   \n",
       "99439  ffffa3172527f765de70084a7e53aae8      2017-09-02 11:53:32   \n",
       "99440  ffffe8b65bbe3087b653a978c870db99      2017-09-29 14:07:03   \n",
       "\n",
       "       dias_desde_ultima_compra  churn  \n",
       "0                           336      1  \n",
       "1                           457      1  \n",
       "2                           595      1  \n",
       "3                           426      1  \n",
       "4                           197      1  \n",
       "...                         ...    ...  \n",
       "99436                       201      1  \n",
       "99437                       147      0  \n",
       "99438                       125      0  \n",
       "99439                       409      1  \n",
       "99440                       382      1  \n",
       "\n",
       "[99441 rows x 4 columns]"
      ]
     },
     "execution_count": 13,
     "metadata": {},
     "output_type": "execute_result"
    }
   ],
   "source": [
    "ultima_compra"
   ]
  },
  {
   "cell_type": "code",
   "execution_count": 16,
   "metadata": {},
   "outputs": [],
   "source": [
    "ultima_compra.to_pickle(\"ultima_compra.pkl\")\n",
    "#formato Pickle, que es el formato nativo de Python para almacenar objetos.\n",
    "#Hago esto para llevármelo al notebook de confirmación de hipótesis\n",
    "\n"
   ]
  }
 ],
 "metadata": {
  "kernelspec": {
   "display_name": "Python 3",
   "language": "python",
   "name": "python3"
  },
  "language_info": {
   "codemirror_mode": {
    "name": "ipython",
    "version": 3
   },
   "file_extension": ".py",
   "mimetype": "text/x-python",
   "name": "python",
   "nbconvert_exporter": "python",
   "pygments_lexer": "ipython3",
   "version": "3.11.9"
  }
 },
 "nbformat": 4,
 "nbformat_minor": 2
}
